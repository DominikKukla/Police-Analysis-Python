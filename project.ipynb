{
 "cells": [
  {
   "cell_type": "markdown",
   "id": "d239d954",
   "metadata": {},
   "source": [
    "# Data import"
   ]
  },
  {
   "cell_type": "code",
   "execution_count": 371,
   "id": "57c52df9",
   "metadata": {},
   "outputs": [],
   "source": [
    "import pandas as pd\n",
    "police = pd.read_csv('police.csv')"
   ]
  },
  {
   "cell_type": "code",
   "execution_count": 372,
   "id": "a20c5fc9",
   "metadata": {},
   "outputs": [
    {
     "data": {
      "text/html": [
       "<div>\n",
       "<style scoped>\n",
       "    .dataframe tbody tr th:only-of-type {\n",
       "        vertical-align: middle;\n",
       "    }\n",
       "\n",
       "    .dataframe tbody tr th {\n",
       "        vertical-align: top;\n",
       "    }\n",
       "\n",
       "    .dataframe thead th {\n",
       "        text-align: right;\n",
       "    }\n",
       "</style>\n",
       "<table border=\"1\" class=\"dataframe\">\n",
       "  <thead>\n",
       "    <tr style=\"text-align: right;\">\n",
       "      <th></th>\n",
       "      <th>stop_date</th>\n",
       "      <th>stop_time</th>\n",
       "      <th>county_name</th>\n",
       "      <th>driver_gender</th>\n",
       "      <th>driver_age_raw</th>\n",
       "      <th>driver_age</th>\n",
       "      <th>driver_race</th>\n",
       "      <th>violation_raw</th>\n",
       "      <th>violation</th>\n",
       "      <th>search_conducted</th>\n",
       "      <th>search_type</th>\n",
       "      <th>stop_outcome</th>\n",
       "      <th>is_arrested</th>\n",
       "      <th>stop_duration</th>\n",
       "      <th>drugs_related_stop</th>\n",
       "    </tr>\n",
       "  </thead>\n",
       "  <tbody>\n",
       "    <tr>\n",
       "      <th>0</th>\n",
       "      <td>2005-01-02</td>\n",
       "      <td>01:55</td>\n",
       "      <td>NaN</td>\n",
       "      <td>M</td>\n",
       "      <td>1985.0</td>\n",
       "      <td>20.0</td>\n",
       "      <td>White</td>\n",
       "      <td>Speeding</td>\n",
       "      <td>Speeding</td>\n",
       "      <td>False</td>\n",
       "      <td>NaN</td>\n",
       "      <td>Citation</td>\n",
       "      <td>False</td>\n",
       "      <td>0-15 Min</td>\n",
       "      <td>False</td>\n",
       "    </tr>\n",
       "    <tr>\n",
       "      <th>1</th>\n",
       "      <td>2005-01-18</td>\n",
       "      <td>08:15</td>\n",
       "      <td>NaN</td>\n",
       "      <td>M</td>\n",
       "      <td>1965.0</td>\n",
       "      <td>40.0</td>\n",
       "      <td>White</td>\n",
       "      <td>Speeding</td>\n",
       "      <td>Speeding</td>\n",
       "      <td>False</td>\n",
       "      <td>NaN</td>\n",
       "      <td>Citation</td>\n",
       "      <td>False</td>\n",
       "      <td>0-15 Min</td>\n",
       "      <td>False</td>\n",
       "    </tr>\n",
       "    <tr>\n",
       "      <th>2</th>\n",
       "      <td>2005-01-23</td>\n",
       "      <td>23:15</td>\n",
       "      <td>NaN</td>\n",
       "      <td>M</td>\n",
       "      <td>1972.0</td>\n",
       "      <td>33.0</td>\n",
       "      <td>White</td>\n",
       "      <td>Speeding</td>\n",
       "      <td>Speeding</td>\n",
       "      <td>False</td>\n",
       "      <td>NaN</td>\n",
       "      <td>Citation</td>\n",
       "      <td>False</td>\n",
       "      <td>0-15 Min</td>\n",
       "      <td>False</td>\n",
       "    </tr>\n",
       "    <tr>\n",
       "      <th>3</th>\n",
       "      <td>2005-02-20</td>\n",
       "      <td>17:15</td>\n",
       "      <td>NaN</td>\n",
       "      <td>M</td>\n",
       "      <td>1986.0</td>\n",
       "      <td>19.0</td>\n",
       "      <td>White</td>\n",
       "      <td>Call for Service</td>\n",
       "      <td>Other</td>\n",
       "      <td>False</td>\n",
       "      <td>NaN</td>\n",
       "      <td>Arrest Driver</td>\n",
       "      <td>True</td>\n",
       "      <td>16-30 Min</td>\n",
       "      <td>False</td>\n",
       "    </tr>\n",
       "    <tr>\n",
       "      <th>4</th>\n",
       "      <td>2005-03-14</td>\n",
       "      <td>10:00</td>\n",
       "      <td>NaN</td>\n",
       "      <td>F</td>\n",
       "      <td>1984.0</td>\n",
       "      <td>21.0</td>\n",
       "      <td>White</td>\n",
       "      <td>Speeding</td>\n",
       "      <td>Speeding</td>\n",
       "      <td>False</td>\n",
       "      <td>NaN</td>\n",
       "      <td>Citation</td>\n",
       "      <td>False</td>\n",
       "      <td>0-15 Min</td>\n",
       "      <td>False</td>\n",
       "    </tr>\n",
       "    <tr>\n",
       "      <th>5</th>\n",
       "      <td>2005-03-23</td>\n",
       "      <td>09:45</td>\n",
       "      <td>NaN</td>\n",
       "      <td>M</td>\n",
       "      <td>1982.0</td>\n",
       "      <td>23.0</td>\n",
       "      <td>Black</td>\n",
       "      <td>Equipment/Inspection Violation</td>\n",
       "      <td>Equipment</td>\n",
       "      <td>False</td>\n",
       "      <td>NaN</td>\n",
       "      <td>Citation</td>\n",
       "      <td>False</td>\n",
       "      <td>0-15 Min</td>\n",
       "      <td>False</td>\n",
       "    </tr>\n",
       "    <tr>\n",
       "      <th>6</th>\n",
       "      <td>2005-04-01</td>\n",
       "      <td>17:30</td>\n",
       "      <td>NaN</td>\n",
       "      <td>M</td>\n",
       "      <td>1969.0</td>\n",
       "      <td>36.0</td>\n",
       "      <td>White</td>\n",
       "      <td>Speeding</td>\n",
       "      <td>Speeding</td>\n",
       "      <td>False</td>\n",
       "      <td>NaN</td>\n",
       "      <td>Citation</td>\n",
       "      <td>False</td>\n",
       "      <td>0-15 Min</td>\n",
       "      <td>False</td>\n",
       "    </tr>\n",
       "    <tr>\n",
       "      <th>7</th>\n",
       "      <td>2005-06-06</td>\n",
       "      <td>13:20</td>\n",
       "      <td>NaN</td>\n",
       "      <td>F</td>\n",
       "      <td>1986.0</td>\n",
       "      <td>19.0</td>\n",
       "      <td>White</td>\n",
       "      <td>Speeding</td>\n",
       "      <td>Speeding</td>\n",
       "      <td>False</td>\n",
       "      <td>NaN</td>\n",
       "      <td>Citation</td>\n",
       "      <td>False</td>\n",
       "      <td>0-15 Min</td>\n",
       "      <td>False</td>\n",
       "    </tr>\n",
       "    <tr>\n",
       "      <th>8</th>\n",
       "      <td>2005-07-13</td>\n",
       "      <td>10:15</td>\n",
       "      <td>NaN</td>\n",
       "      <td>M</td>\n",
       "      <td>1970.0</td>\n",
       "      <td>35.0</td>\n",
       "      <td>Black</td>\n",
       "      <td>Speeding</td>\n",
       "      <td>Speeding</td>\n",
       "      <td>False</td>\n",
       "      <td>NaN</td>\n",
       "      <td>Citation</td>\n",
       "      <td>False</td>\n",
       "      <td>0-15 Min</td>\n",
       "      <td>False</td>\n",
       "    </tr>\n",
       "    <tr>\n",
       "      <th>9</th>\n",
       "      <td>2005-07-13</td>\n",
       "      <td>15:45</td>\n",
       "      <td>NaN</td>\n",
       "      <td>M</td>\n",
       "      <td>1970.0</td>\n",
       "      <td>35.0</td>\n",
       "      <td>White</td>\n",
       "      <td>Speeding</td>\n",
       "      <td>Speeding</td>\n",
       "      <td>False</td>\n",
       "      <td>NaN</td>\n",
       "      <td>Citation</td>\n",
       "      <td>False</td>\n",
       "      <td>0-15 Min</td>\n",
       "      <td>False</td>\n",
       "    </tr>\n",
       "  </tbody>\n",
       "</table>\n",
       "</div>"
      ],
      "text/plain": [
       "    stop_date stop_time  county_name driver_gender  driver_age_raw  \\\n",
       "0  2005-01-02     01:55          NaN             M          1985.0   \n",
       "1  2005-01-18     08:15          NaN             M          1965.0   \n",
       "2  2005-01-23     23:15          NaN             M          1972.0   \n",
       "3  2005-02-20     17:15          NaN             M          1986.0   \n",
       "4  2005-03-14     10:00          NaN             F          1984.0   \n",
       "5  2005-03-23     09:45          NaN             M          1982.0   \n",
       "6  2005-04-01     17:30          NaN             M          1969.0   \n",
       "7  2005-06-06     13:20          NaN             F          1986.0   \n",
       "8  2005-07-13     10:15          NaN             M          1970.0   \n",
       "9  2005-07-13     15:45          NaN             M          1970.0   \n",
       "\n",
       "   driver_age driver_race                   violation_raw  violation  \\\n",
       "0        20.0       White                        Speeding   Speeding   \n",
       "1        40.0       White                        Speeding   Speeding   \n",
       "2        33.0       White                        Speeding   Speeding   \n",
       "3        19.0       White                Call for Service      Other   \n",
       "4        21.0       White                        Speeding   Speeding   \n",
       "5        23.0       Black  Equipment/Inspection Violation  Equipment   \n",
       "6        36.0       White                        Speeding   Speeding   \n",
       "7        19.0       White                        Speeding   Speeding   \n",
       "8        35.0       Black                        Speeding   Speeding   \n",
       "9        35.0       White                        Speeding   Speeding   \n",
       "\n",
       "   search_conducted search_type   stop_outcome is_arrested stop_duration  \\\n",
       "0             False         NaN       Citation       False      0-15 Min   \n",
       "1             False         NaN       Citation       False      0-15 Min   \n",
       "2             False         NaN       Citation       False      0-15 Min   \n",
       "3             False         NaN  Arrest Driver        True     16-30 Min   \n",
       "4             False         NaN       Citation       False      0-15 Min   \n",
       "5             False         NaN       Citation       False      0-15 Min   \n",
       "6             False         NaN       Citation       False      0-15 Min   \n",
       "7             False         NaN       Citation       False      0-15 Min   \n",
       "8             False         NaN       Citation       False      0-15 Min   \n",
       "9             False         NaN       Citation       False      0-15 Min   \n",
       "\n",
       "   drugs_related_stop  \n",
       "0               False  \n",
       "1               False  \n",
       "2               False  \n",
       "3               False  \n",
       "4               False  \n",
       "5               False  \n",
       "6               False  \n",
       "7               False  \n",
       "8               False  \n",
       "9               False  "
      ]
     },
     "execution_count": 372,
     "metadata": {},
     "output_type": "execute_result"
    }
   ],
   "source": [
    "police.head(n=10)"
   ]
  },
  {
   "cell_type": "code",
   "execution_count": 373,
   "id": "6a477c86",
   "metadata": {},
   "outputs": [
    {
     "name": "stdout",
     "output_type": "stream",
     "text": [
      "<class 'pandas.core.frame.DataFrame'>\n",
      "RangeIndex: 91741 entries, 0 to 91740\n",
      "Data columns (total 15 columns):\n",
      " #   Column              Non-Null Count  Dtype  \n",
      "---  ------              --------------  -----  \n",
      " 0   stop_date           91741 non-null  object \n",
      " 1   stop_time           91741 non-null  object \n",
      " 2   county_name         0 non-null      float64\n",
      " 3   driver_gender       86406 non-null  object \n",
      " 4   driver_age_raw      86414 non-null  float64\n",
      " 5   driver_age          86120 non-null  float64\n",
      " 6   driver_race         86408 non-null  object \n",
      " 7   violation_raw       86408 non-null  object \n",
      " 8   violation           86408 non-null  object \n",
      " 9   search_conducted    91741 non-null  bool   \n",
      " 10  search_type         3196 non-null   object \n",
      " 11  stop_outcome        86408 non-null  object \n",
      " 12  is_arrested         86408 non-null  object \n",
      " 13  stop_duration       86408 non-null  object \n",
      " 14  drugs_related_stop  91741 non-null  bool   \n",
      "dtypes: bool(2), float64(3), object(10)\n",
      "memory usage: 9.3+ MB\n"
     ]
    }
   ],
   "source": [
    "police.info()"
   ]
  },
  {
   "cell_type": "markdown",
   "id": "9769a753",
   "metadata": {},
   "source": [
    "---"
   ]
  },
  {
   "cell_type": "markdown",
   "id": "87253100",
   "metadata": {},
   "source": [
    "# Data cleaning"
   ]
  },
  {
   "cell_type": "code",
   "execution_count": 374,
   "id": "8414e0a9",
   "metadata": {},
   "outputs": [],
   "source": [
    "police = police.drop(\n",
    "    labels='county_name',\n",
    "    axis=1)"
   ]
  },
  {
   "cell_type": "code",
   "execution_count": 375,
   "id": "c6a9fd8a",
   "metadata": {},
   "outputs": [],
   "source": [
    "police.insert(\n",
    "    1,\n",
    "    'stop_year',\n",
    "    0)"
   ]
  },
  {
   "cell_type": "code",
   "execution_count": 376,
   "id": "ff1e5f80",
   "metadata": {},
   "outputs": [
    {
     "data": {
      "text/html": [
       "<div>\n",
       "<style scoped>\n",
       "    .dataframe tbody tr th:only-of-type {\n",
       "        vertical-align: middle;\n",
       "    }\n",
       "\n",
       "    .dataframe tbody tr th {\n",
       "        vertical-align: top;\n",
       "    }\n",
       "\n",
       "    .dataframe thead th {\n",
       "        text-align: right;\n",
       "    }\n",
       "</style>\n",
       "<table border=\"1\" class=\"dataframe\">\n",
       "  <thead>\n",
       "    <tr style=\"text-align: right;\">\n",
       "      <th></th>\n",
       "      <th>stop_date</th>\n",
       "      <th>stop_year</th>\n",
       "      <th>stop_time</th>\n",
       "      <th>driver_gender</th>\n",
       "      <th>driver_age_raw</th>\n",
       "      <th>driver_age</th>\n",
       "      <th>driver_race</th>\n",
       "      <th>violation_raw</th>\n",
       "      <th>violation</th>\n",
       "      <th>search_conducted</th>\n",
       "      <th>search_type</th>\n",
       "      <th>stop_outcome</th>\n",
       "      <th>is_arrested</th>\n",
       "      <th>stop_duration</th>\n",
       "      <th>drugs_related_stop</th>\n",
       "    </tr>\n",
       "  </thead>\n",
       "  <tbody>\n",
       "    <tr>\n",
       "      <th>0</th>\n",
       "      <td>2005-01-02</td>\n",
       "      <td>0</td>\n",
       "      <td>01:55</td>\n",
       "      <td>M</td>\n",
       "      <td>1985.0</td>\n",
       "      <td>20.0</td>\n",
       "      <td>White</td>\n",
       "      <td>Speeding</td>\n",
       "      <td>Speeding</td>\n",
       "      <td>False</td>\n",
       "      <td>NaN</td>\n",
       "      <td>Citation</td>\n",
       "      <td>False</td>\n",
       "      <td>0-15 Min</td>\n",
       "      <td>False</td>\n",
       "    </tr>\n",
       "    <tr>\n",
       "      <th>1</th>\n",
       "      <td>2005-01-18</td>\n",
       "      <td>0</td>\n",
       "      <td>08:15</td>\n",
       "      <td>M</td>\n",
       "      <td>1965.0</td>\n",
       "      <td>40.0</td>\n",
       "      <td>White</td>\n",
       "      <td>Speeding</td>\n",
       "      <td>Speeding</td>\n",
       "      <td>False</td>\n",
       "      <td>NaN</td>\n",
       "      <td>Citation</td>\n",
       "      <td>False</td>\n",
       "      <td>0-15 Min</td>\n",
       "      <td>False</td>\n",
       "    </tr>\n",
       "    <tr>\n",
       "      <th>2</th>\n",
       "      <td>2005-01-23</td>\n",
       "      <td>0</td>\n",
       "      <td>23:15</td>\n",
       "      <td>M</td>\n",
       "      <td>1972.0</td>\n",
       "      <td>33.0</td>\n",
       "      <td>White</td>\n",
       "      <td>Speeding</td>\n",
       "      <td>Speeding</td>\n",
       "      <td>False</td>\n",
       "      <td>NaN</td>\n",
       "      <td>Citation</td>\n",
       "      <td>False</td>\n",
       "      <td>0-15 Min</td>\n",
       "      <td>False</td>\n",
       "    </tr>\n",
       "    <tr>\n",
       "      <th>3</th>\n",
       "      <td>2005-02-20</td>\n",
       "      <td>0</td>\n",
       "      <td>17:15</td>\n",
       "      <td>M</td>\n",
       "      <td>1986.0</td>\n",
       "      <td>19.0</td>\n",
       "      <td>White</td>\n",
       "      <td>Call for Service</td>\n",
       "      <td>Other</td>\n",
       "      <td>False</td>\n",
       "      <td>NaN</td>\n",
       "      <td>Arrest Driver</td>\n",
       "      <td>True</td>\n",
       "      <td>16-30 Min</td>\n",
       "      <td>False</td>\n",
       "    </tr>\n",
       "    <tr>\n",
       "      <th>4</th>\n",
       "      <td>2005-03-14</td>\n",
       "      <td>0</td>\n",
       "      <td>10:00</td>\n",
       "      <td>F</td>\n",
       "      <td>1984.0</td>\n",
       "      <td>21.0</td>\n",
       "      <td>White</td>\n",
       "      <td>Speeding</td>\n",
       "      <td>Speeding</td>\n",
       "      <td>False</td>\n",
       "      <td>NaN</td>\n",
       "      <td>Citation</td>\n",
       "      <td>False</td>\n",
       "      <td>0-15 Min</td>\n",
       "      <td>False</td>\n",
       "    </tr>\n",
       "  </tbody>\n",
       "</table>\n",
       "</div>"
      ],
      "text/plain": [
       "    stop_date  stop_year stop_time driver_gender  driver_age_raw  driver_age  \\\n",
       "0  2005-01-02          0     01:55             M          1985.0        20.0   \n",
       "1  2005-01-18          0     08:15             M          1965.0        40.0   \n",
       "2  2005-01-23          0     23:15             M          1972.0        33.0   \n",
       "3  2005-02-20          0     17:15             M          1986.0        19.0   \n",
       "4  2005-03-14          0     10:00             F          1984.0        21.0   \n",
       "\n",
       "  driver_race     violation_raw violation  search_conducted search_type  \\\n",
       "0       White          Speeding  Speeding             False         NaN   \n",
       "1       White          Speeding  Speeding             False         NaN   \n",
       "2       White          Speeding  Speeding             False         NaN   \n",
       "3       White  Call for Service     Other             False         NaN   \n",
       "4       White          Speeding  Speeding             False         NaN   \n",
       "\n",
       "    stop_outcome is_arrested stop_duration  drugs_related_stop  \n",
       "0       Citation       False      0-15 Min               False  \n",
       "1       Citation       False      0-15 Min               False  \n",
       "2       Citation       False      0-15 Min               False  \n",
       "3  Arrest Driver        True     16-30 Min               False  \n",
       "4       Citation       False      0-15 Min               False  "
      ]
     },
     "execution_count": 376,
     "metadata": {},
     "output_type": "execute_result"
    }
   ],
   "source": [
    "police.head()"
   ]
  },
  {
   "cell_type": "code",
   "execution_count": 377,
   "id": "c78c2b42",
   "metadata": {},
   "outputs": [],
   "source": [
    "police['stop_year'] = police['stop_date'].str[:4]"
   ]
  },
  {
   "cell_type": "code",
   "execution_count": 378,
   "id": "1e7f6543",
   "metadata": {},
   "outputs": [
    {
     "data": {
      "text/html": [
       "<div>\n",
       "<style scoped>\n",
       "    .dataframe tbody tr th:only-of-type {\n",
       "        vertical-align: middle;\n",
       "    }\n",
       "\n",
       "    .dataframe tbody tr th {\n",
       "        vertical-align: top;\n",
       "    }\n",
       "\n",
       "    .dataframe thead th {\n",
       "        text-align: right;\n",
       "    }\n",
       "</style>\n",
       "<table border=\"1\" class=\"dataframe\">\n",
       "  <thead>\n",
       "    <tr style=\"text-align: right;\">\n",
       "      <th></th>\n",
       "      <th>stop_date</th>\n",
       "      <th>stop_year</th>\n",
       "      <th>stop_time</th>\n",
       "      <th>driver_gender</th>\n",
       "      <th>driver_age_raw</th>\n",
       "      <th>driver_age</th>\n",
       "      <th>driver_race</th>\n",
       "      <th>violation_raw</th>\n",
       "      <th>violation</th>\n",
       "      <th>search_conducted</th>\n",
       "      <th>search_type</th>\n",
       "      <th>stop_outcome</th>\n",
       "      <th>is_arrested</th>\n",
       "      <th>stop_duration</th>\n",
       "      <th>drugs_related_stop</th>\n",
       "    </tr>\n",
       "  </thead>\n",
       "  <tbody>\n",
       "    <tr>\n",
       "      <th>0</th>\n",
       "      <td>2005-01-02</td>\n",
       "      <td>2005</td>\n",
       "      <td>01:55</td>\n",
       "      <td>M</td>\n",
       "      <td>1985.0</td>\n",
       "      <td>20.0</td>\n",
       "      <td>White</td>\n",
       "      <td>Speeding</td>\n",
       "      <td>Speeding</td>\n",
       "      <td>False</td>\n",
       "      <td>NaN</td>\n",
       "      <td>Citation</td>\n",
       "      <td>False</td>\n",
       "      <td>0-15 Min</td>\n",
       "      <td>False</td>\n",
       "    </tr>\n",
       "    <tr>\n",
       "      <th>1</th>\n",
       "      <td>2005-01-18</td>\n",
       "      <td>2005</td>\n",
       "      <td>08:15</td>\n",
       "      <td>M</td>\n",
       "      <td>1965.0</td>\n",
       "      <td>40.0</td>\n",
       "      <td>White</td>\n",
       "      <td>Speeding</td>\n",
       "      <td>Speeding</td>\n",
       "      <td>False</td>\n",
       "      <td>NaN</td>\n",
       "      <td>Citation</td>\n",
       "      <td>False</td>\n",
       "      <td>0-15 Min</td>\n",
       "      <td>False</td>\n",
       "    </tr>\n",
       "    <tr>\n",
       "      <th>2</th>\n",
       "      <td>2005-01-23</td>\n",
       "      <td>2005</td>\n",
       "      <td>23:15</td>\n",
       "      <td>M</td>\n",
       "      <td>1972.0</td>\n",
       "      <td>33.0</td>\n",
       "      <td>White</td>\n",
       "      <td>Speeding</td>\n",
       "      <td>Speeding</td>\n",
       "      <td>False</td>\n",
       "      <td>NaN</td>\n",
       "      <td>Citation</td>\n",
       "      <td>False</td>\n",
       "      <td>0-15 Min</td>\n",
       "      <td>False</td>\n",
       "    </tr>\n",
       "    <tr>\n",
       "      <th>3</th>\n",
       "      <td>2005-02-20</td>\n",
       "      <td>2005</td>\n",
       "      <td>17:15</td>\n",
       "      <td>M</td>\n",
       "      <td>1986.0</td>\n",
       "      <td>19.0</td>\n",
       "      <td>White</td>\n",
       "      <td>Call for Service</td>\n",
       "      <td>Other</td>\n",
       "      <td>False</td>\n",
       "      <td>NaN</td>\n",
       "      <td>Arrest Driver</td>\n",
       "      <td>True</td>\n",
       "      <td>16-30 Min</td>\n",
       "      <td>False</td>\n",
       "    </tr>\n",
       "    <tr>\n",
       "      <th>4</th>\n",
       "      <td>2005-03-14</td>\n",
       "      <td>2005</td>\n",
       "      <td>10:00</td>\n",
       "      <td>F</td>\n",
       "      <td>1984.0</td>\n",
       "      <td>21.0</td>\n",
       "      <td>White</td>\n",
       "      <td>Speeding</td>\n",
       "      <td>Speeding</td>\n",
       "      <td>False</td>\n",
       "      <td>NaN</td>\n",
       "      <td>Citation</td>\n",
       "      <td>False</td>\n",
       "      <td>0-15 Min</td>\n",
       "      <td>False</td>\n",
       "    </tr>\n",
       "  </tbody>\n",
       "</table>\n",
       "</div>"
      ],
      "text/plain": [
       "    stop_date stop_year stop_time driver_gender  driver_age_raw  driver_age  \\\n",
       "0  2005-01-02      2005     01:55             M          1985.0        20.0   \n",
       "1  2005-01-18      2005     08:15             M          1965.0        40.0   \n",
       "2  2005-01-23      2005     23:15             M          1972.0        33.0   \n",
       "3  2005-02-20      2005     17:15             M          1986.0        19.0   \n",
       "4  2005-03-14      2005     10:00             F          1984.0        21.0   \n",
       "\n",
       "  driver_race     violation_raw violation  search_conducted search_type  \\\n",
       "0       White          Speeding  Speeding             False         NaN   \n",
       "1       White          Speeding  Speeding             False         NaN   \n",
       "2       White          Speeding  Speeding             False         NaN   \n",
       "3       White  Call for Service     Other             False         NaN   \n",
       "4       White          Speeding  Speeding             False         NaN   \n",
       "\n",
       "    stop_outcome is_arrested stop_duration  drugs_related_stop  \n",
       "0       Citation       False      0-15 Min               False  \n",
       "1       Citation       False      0-15 Min               False  \n",
       "2       Citation       False      0-15 Min               False  \n",
       "3  Arrest Driver        True     16-30 Min               False  \n",
       "4       Citation       False      0-15 Min               False  "
      ]
     },
     "execution_count": 378,
     "metadata": {},
     "output_type": "execute_result"
    }
   ],
   "source": [
    "police.head()"
   ]
  },
  {
   "cell_type": "code",
   "execution_count": 379,
   "id": "0aff4d77",
   "metadata": {},
   "outputs": [
    {
     "name": "stdout",
     "output_type": "stream",
     "text": [
      "<class 'pandas.core.frame.DataFrame'>\n",
      "RangeIndex: 91741 entries, 0 to 91740\n",
      "Data columns (total 15 columns):\n",
      " #   Column              Non-Null Count  Dtype  \n",
      "---  ------              --------------  -----  \n",
      " 0   stop_date           91741 non-null  object \n",
      " 1   stop_year           91741 non-null  object \n",
      " 2   stop_time           91741 non-null  object \n",
      " 3   driver_gender       86406 non-null  object \n",
      " 4   driver_age_raw      86414 non-null  float64\n",
      " 5   driver_age          86120 non-null  float64\n",
      " 6   driver_race         86408 non-null  object \n",
      " 7   violation_raw       86408 non-null  object \n",
      " 8   violation           86408 non-null  object \n",
      " 9   search_conducted    91741 non-null  bool   \n",
      " 10  search_type         3196 non-null   object \n",
      " 11  stop_outcome        86408 non-null  object \n",
      " 12  is_arrested         86408 non-null  object \n",
      " 13  stop_duration       86408 non-null  object \n",
      " 14  drugs_related_stop  91741 non-null  bool   \n",
      "dtypes: bool(2), float64(2), object(11)\n",
      "memory usage: 9.3+ MB\n"
     ]
    }
   ],
   "source": [
    "police.info()"
   ]
  },
  {
   "cell_type": "code",
   "execution_count": 380,
   "id": "e6e772d4",
   "metadata": {},
   "outputs": [],
   "source": [
    "police['stop_year'] = police['stop_year'].astype('int64')"
   ]
  },
  {
   "cell_type": "code",
   "execution_count": 381,
   "id": "a41c24b5",
   "metadata": {},
   "outputs": [
    {
     "name": "stdout",
     "output_type": "stream",
     "text": [
      "<class 'pandas.core.frame.DataFrame'>\n",
      "RangeIndex: 91741 entries, 0 to 91740\n",
      "Data columns (total 15 columns):\n",
      " #   Column              Non-Null Count  Dtype  \n",
      "---  ------              --------------  -----  \n",
      " 0   stop_date           91741 non-null  object \n",
      " 1   stop_year           91741 non-null  int64  \n",
      " 2   stop_time           91741 non-null  object \n",
      " 3   driver_gender       86406 non-null  object \n",
      " 4   driver_age_raw      86414 non-null  float64\n",
      " 5   driver_age          86120 non-null  float64\n",
      " 6   driver_race         86408 non-null  object \n",
      " 7   violation_raw       86408 non-null  object \n",
      " 8   violation           86408 non-null  object \n",
      " 9   search_conducted    91741 non-null  bool   \n",
      " 10  search_type         3196 non-null   object \n",
      " 11  stop_outcome        86408 non-null  object \n",
      " 12  is_arrested         86408 non-null  object \n",
      " 13  stop_duration       86408 non-null  object \n",
      " 14  drugs_related_stop  91741 non-null  bool   \n",
      "dtypes: bool(2), float64(2), int64(1), object(10)\n",
      "memory usage: 9.3+ MB\n"
     ]
    }
   ],
   "source": [
    "police.info()"
   ]
  },
  {
   "cell_type": "code",
   "execution_count": 382,
   "id": "a7fc7013",
   "metadata": {},
   "outputs": [],
   "source": [
    "police.insert(\n",
    "    3,\n",
    "    'stop_hour',\n",
    "    0)"
   ]
  },
  {
   "cell_type": "code",
   "execution_count": 383,
   "id": "ca09262e",
   "metadata": {},
   "outputs": [
    {
     "name": "stdout",
     "output_type": "stream",
     "text": [
      "<class 'pandas.core.frame.DataFrame'>\n",
      "RangeIndex: 91741 entries, 0 to 91740\n",
      "Data columns (total 16 columns):\n",
      " #   Column              Non-Null Count  Dtype  \n",
      "---  ------              --------------  -----  \n",
      " 0   stop_date           91741 non-null  object \n",
      " 1   stop_year           91741 non-null  int64  \n",
      " 2   stop_time           91741 non-null  object \n",
      " 3   stop_hour           91741 non-null  int64  \n",
      " 4   driver_gender       86406 non-null  object \n",
      " 5   driver_age_raw      86414 non-null  float64\n",
      " 6   driver_age          86120 non-null  float64\n",
      " 7   driver_race         86408 non-null  object \n",
      " 8   violation_raw       86408 non-null  object \n",
      " 9   violation           86408 non-null  object \n",
      " 10  search_conducted    91741 non-null  bool   \n",
      " 11  search_type         3196 non-null   object \n",
      " 12  stop_outcome        86408 non-null  object \n",
      " 13  is_arrested         86408 non-null  object \n",
      " 14  stop_duration       86408 non-null  object \n",
      " 15  drugs_related_stop  91741 non-null  bool   \n",
      "dtypes: bool(2), float64(2), int64(2), object(10)\n",
      "memory usage: 10.0+ MB\n"
     ]
    }
   ],
   "source": [
    "police['stop_hour'] = police['stop_time'].str[:2]\n",
    "police['stop_hour'] = police['stop_hour'].astype('int64')\n",
    "police.info()"
   ]
  },
  {
   "cell_type": "code",
   "execution_count": 384,
   "id": "6d3adc18",
   "metadata": {},
   "outputs": [
    {
     "data": {
      "text/html": [
       "<div>\n",
       "<style scoped>\n",
       "    .dataframe tbody tr th:only-of-type {\n",
       "        vertical-align: middle;\n",
       "    }\n",
       "\n",
       "    .dataframe tbody tr th {\n",
       "        vertical-align: top;\n",
       "    }\n",
       "\n",
       "    .dataframe thead th {\n",
       "        text-align: right;\n",
       "    }\n",
       "</style>\n",
       "<table border=\"1\" class=\"dataframe\">\n",
       "  <thead>\n",
       "    <tr style=\"text-align: right;\">\n",
       "      <th></th>\n",
       "      <th>stop_date</th>\n",
       "      <th>stop_year</th>\n",
       "      <th>stop_time</th>\n",
       "      <th>stop_hour</th>\n",
       "      <th>driver_gender</th>\n",
       "      <th>driver_age_raw</th>\n",
       "      <th>driver_age</th>\n",
       "      <th>driver_race</th>\n",
       "      <th>violation_raw</th>\n",
       "      <th>violation</th>\n",
       "      <th>search_conducted</th>\n",
       "      <th>search_type</th>\n",
       "      <th>stop_outcome</th>\n",
       "      <th>is_arrested</th>\n",
       "      <th>stop_duration</th>\n",
       "      <th>drugs_related_stop</th>\n",
       "    </tr>\n",
       "  </thead>\n",
       "  <tbody>\n",
       "    <tr>\n",
       "      <th>0</th>\n",
       "      <td>2005-01-02</td>\n",
       "      <td>2005</td>\n",
       "      <td>01:55</td>\n",
       "      <td>1</td>\n",
       "      <td>M</td>\n",
       "      <td>1985.0</td>\n",
       "      <td>20.0</td>\n",
       "      <td>White</td>\n",
       "      <td>Speeding</td>\n",
       "      <td>Speeding</td>\n",
       "      <td>False</td>\n",
       "      <td>NaN</td>\n",
       "      <td>Citation</td>\n",
       "      <td>False</td>\n",
       "      <td>0-15 Min</td>\n",
       "      <td>False</td>\n",
       "    </tr>\n",
       "    <tr>\n",
       "      <th>1</th>\n",
       "      <td>2005-01-18</td>\n",
       "      <td>2005</td>\n",
       "      <td>08:15</td>\n",
       "      <td>8</td>\n",
       "      <td>M</td>\n",
       "      <td>1965.0</td>\n",
       "      <td>40.0</td>\n",
       "      <td>White</td>\n",
       "      <td>Speeding</td>\n",
       "      <td>Speeding</td>\n",
       "      <td>False</td>\n",
       "      <td>NaN</td>\n",
       "      <td>Citation</td>\n",
       "      <td>False</td>\n",
       "      <td>0-15 Min</td>\n",
       "      <td>False</td>\n",
       "    </tr>\n",
       "    <tr>\n",
       "      <th>2</th>\n",
       "      <td>2005-01-23</td>\n",
       "      <td>2005</td>\n",
       "      <td>23:15</td>\n",
       "      <td>23</td>\n",
       "      <td>M</td>\n",
       "      <td>1972.0</td>\n",
       "      <td>33.0</td>\n",
       "      <td>White</td>\n",
       "      <td>Speeding</td>\n",
       "      <td>Speeding</td>\n",
       "      <td>False</td>\n",
       "      <td>NaN</td>\n",
       "      <td>Citation</td>\n",
       "      <td>False</td>\n",
       "      <td>0-15 Min</td>\n",
       "      <td>False</td>\n",
       "    </tr>\n",
       "    <tr>\n",
       "      <th>3</th>\n",
       "      <td>2005-02-20</td>\n",
       "      <td>2005</td>\n",
       "      <td>17:15</td>\n",
       "      <td>17</td>\n",
       "      <td>M</td>\n",
       "      <td>1986.0</td>\n",
       "      <td>19.0</td>\n",
       "      <td>White</td>\n",
       "      <td>Call for Service</td>\n",
       "      <td>Other</td>\n",
       "      <td>False</td>\n",
       "      <td>NaN</td>\n",
       "      <td>Arrest Driver</td>\n",
       "      <td>True</td>\n",
       "      <td>16-30 Min</td>\n",
       "      <td>False</td>\n",
       "    </tr>\n",
       "    <tr>\n",
       "      <th>4</th>\n",
       "      <td>2005-03-14</td>\n",
       "      <td>2005</td>\n",
       "      <td>10:00</td>\n",
       "      <td>10</td>\n",
       "      <td>F</td>\n",
       "      <td>1984.0</td>\n",
       "      <td>21.0</td>\n",
       "      <td>White</td>\n",
       "      <td>Speeding</td>\n",
       "      <td>Speeding</td>\n",
       "      <td>False</td>\n",
       "      <td>NaN</td>\n",
       "      <td>Citation</td>\n",
       "      <td>False</td>\n",
       "      <td>0-15 Min</td>\n",
       "      <td>False</td>\n",
       "    </tr>\n",
       "  </tbody>\n",
       "</table>\n",
       "</div>"
      ],
      "text/plain": [
       "    stop_date  stop_year stop_time  stop_hour driver_gender  driver_age_raw  \\\n",
       "0  2005-01-02       2005     01:55          1             M          1985.0   \n",
       "1  2005-01-18       2005     08:15          8             M          1965.0   \n",
       "2  2005-01-23       2005     23:15         23             M          1972.0   \n",
       "3  2005-02-20       2005     17:15         17             M          1986.0   \n",
       "4  2005-03-14       2005     10:00         10             F          1984.0   \n",
       "\n",
       "   driver_age driver_race     violation_raw violation  search_conducted  \\\n",
       "0        20.0       White          Speeding  Speeding             False   \n",
       "1        40.0       White          Speeding  Speeding             False   \n",
       "2        33.0       White          Speeding  Speeding             False   \n",
       "3        19.0       White  Call for Service     Other             False   \n",
       "4        21.0       White          Speeding  Speeding             False   \n",
       "\n",
       "  search_type   stop_outcome is_arrested stop_duration  drugs_related_stop  \n",
       "0         NaN       Citation       False      0-15 Min               False  \n",
       "1         NaN       Citation       False      0-15 Min               False  \n",
       "2         NaN       Citation       False      0-15 Min               False  \n",
       "3         NaN  Arrest Driver        True     16-30 Min               False  \n",
       "4         NaN       Citation       False      0-15 Min               False  "
      ]
     },
     "execution_count": 384,
     "metadata": {},
     "output_type": "execute_result"
    }
   ],
   "source": [
    "police.head()"
   ]
  },
  {
   "cell_type": "code",
   "execution_count": 385,
   "id": "239f4f7a",
   "metadata": {},
   "outputs": [],
   "source": [
    "police.insert(\n",
    "    4,\n",
    "    'stop_daytime',\n",
    "    '')"
   ]
  },
  {
   "cell_type": "code",
   "execution_count": 386,
   "id": "ffcfeeaa",
   "metadata": {},
   "outputs": [],
   "source": [
    "police.loc[(police['stop_hour'] >= 6) & (police['stop_hour'] <= 11),'stop_daytime'] = 'Morning'\n",
    "police.loc[(police['stop_hour'] >= 12) & (police['stop_hour'] <= 17),'stop_daytime'] = 'Afternoon'\n",
    "police.loc[(police['stop_hour'] >= 18) & (police['stop_hour'] <= 21),'stop_daytime'] = 'Evening'\n",
    "police.loc[(police['stop_hour'] >= 22) | (police['stop_hour'] <= 5),'stop_daytime'] = 'Night'"
   ]
  },
  {
   "cell_type": "code",
   "execution_count": 387,
   "id": "672cf767",
   "metadata": {},
   "outputs": [
    {
     "data": {
      "text/html": [
       "<div>\n",
       "<style scoped>\n",
       "    .dataframe tbody tr th:only-of-type {\n",
       "        vertical-align: middle;\n",
       "    }\n",
       "\n",
       "    .dataframe tbody tr th {\n",
       "        vertical-align: top;\n",
       "    }\n",
       "\n",
       "    .dataframe thead th {\n",
       "        text-align: right;\n",
       "    }\n",
       "</style>\n",
       "<table border=\"1\" class=\"dataframe\">\n",
       "  <thead>\n",
       "    <tr style=\"text-align: right;\">\n",
       "      <th></th>\n",
       "      <th>stop_date</th>\n",
       "      <th>stop_year</th>\n",
       "      <th>stop_time</th>\n",
       "      <th>stop_hour</th>\n",
       "      <th>stop_daytime</th>\n",
       "      <th>driver_gender</th>\n",
       "      <th>driver_age_raw</th>\n",
       "      <th>driver_age</th>\n",
       "      <th>driver_race</th>\n",
       "      <th>violation_raw</th>\n",
       "      <th>violation</th>\n",
       "      <th>search_conducted</th>\n",
       "      <th>search_type</th>\n",
       "      <th>stop_outcome</th>\n",
       "      <th>is_arrested</th>\n",
       "      <th>stop_duration</th>\n",
       "      <th>drugs_related_stop</th>\n",
       "    </tr>\n",
       "  </thead>\n",
       "  <tbody>\n",
       "    <tr>\n",
       "      <th>0</th>\n",
       "      <td>2005-01-02</td>\n",
       "      <td>2005</td>\n",
       "      <td>01:55</td>\n",
       "      <td>1</td>\n",
       "      <td>Night</td>\n",
       "      <td>M</td>\n",
       "      <td>1985.0</td>\n",
       "      <td>20.0</td>\n",
       "      <td>White</td>\n",
       "      <td>Speeding</td>\n",
       "      <td>Speeding</td>\n",
       "      <td>False</td>\n",
       "      <td>NaN</td>\n",
       "      <td>Citation</td>\n",
       "      <td>False</td>\n",
       "      <td>0-15 Min</td>\n",
       "      <td>False</td>\n",
       "    </tr>\n",
       "    <tr>\n",
       "      <th>1</th>\n",
       "      <td>2005-01-18</td>\n",
       "      <td>2005</td>\n",
       "      <td>08:15</td>\n",
       "      <td>8</td>\n",
       "      <td>Morning</td>\n",
       "      <td>M</td>\n",
       "      <td>1965.0</td>\n",
       "      <td>40.0</td>\n",
       "      <td>White</td>\n",
       "      <td>Speeding</td>\n",
       "      <td>Speeding</td>\n",
       "      <td>False</td>\n",
       "      <td>NaN</td>\n",
       "      <td>Citation</td>\n",
       "      <td>False</td>\n",
       "      <td>0-15 Min</td>\n",
       "      <td>False</td>\n",
       "    </tr>\n",
       "    <tr>\n",
       "      <th>2</th>\n",
       "      <td>2005-01-23</td>\n",
       "      <td>2005</td>\n",
       "      <td>23:15</td>\n",
       "      <td>23</td>\n",
       "      <td>Night</td>\n",
       "      <td>M</td>\n",
       "      <td>1972.0</td>\n",
       "      <td>33.0</td>\n",
       "      <td>White</td>\n",
       "      <td>Speeding</td>\n",
       "      <td>Speeding</td>\n",
       "      <td>False</td>\n",
       "      <td>NaN</td>\n",
       "      <td>Citation</td>\n",
       "      <td>False</td>\n",
       "      <td>0-15 Min</td>\n",
       "      <td>False</td>\n",
       "    </tr>\n",
       "    <tr>\n",
       "      <th>3</th>\n",
       "      <td>2005-02-20</td>\n",
       "      <td>2005</td>\n",
       "      <td>17:15</td>\n",
       "      <td>17</td>\n",
       "      <td>Afternoon</td>\n",
       "      <td>M</td>\n",
       "      <td>1986.0</td>\n",
       "      <td>19.0</td>\n",
       "      <td>White</td>\n",
       "      <td>Call for Service</td>\n",
       "      <td>Other</td>\n",
       "      <td>False</td>\n",
       "      <td>NaN</td>\n",
       "      <td>Arrest Driver</td>\n",
       "      <td>True</td>\n",
       "      <td>16-30 Min</td>\n",
       "      <td>False</td>\n",
       "    </tr>\n",
       "    <tr>\n",
       "      <th>4</th>\n",
       "      <td>2005-03-14</td>\n",
       "      <td>2005</td>\n",
       "      <td>10:00</td>\n",
       "      <td>10</td>\n",
       "      <td>Morning</td>\n",
       "      <td>F</td>\n",
       "      <td>1984.0</td>\n",
       "      <td>21.0</td>\n",
       "      <td>White</td>\n",
       "      <td>Speeding</td>\n",
       "      <td>Speeding</td>\n",
       "      <td>False</td>\n",
       "      <td>NaN</td>\n",
       "      <td>Citation</td>\n",
       "      <td>False</td>\n",
       "      <td>0-15 Min</td>\n",
       "      <td>False</td>\n",
       "    </tr>\n",
       "  </tbody>\n",
       "</table>\n",
       "</div>"
      ],
      "text/plain": [
       "    stop_date  stop_year stop_time  stop_hour stop_daytime driver_gender  \\\n",
       "0  2005-01-02       2005     01:55          1        Night             M   \n",
       "1  2005-01-18       2005     08:15          8      Morning             M   \n",
       "2  2005-01-23       2005     23:15         23        Night             M   \n",
       "3  2005-02-20       2005     17:15         17    Afternoon             M   \n",
       "4  2005-03-14       2005     10:00         10      Morning             F   \n",
       "\n",
       "   driver_age_raw  driver_age driver_race     violation_raw violation  \\\n",
       "0          1985.0        20.0       White          Speeding  Speeding   \n",
       "1          1965.0        40.0       White          Speeding  Speeding   \n",
       "2          1972.0        33.0       White          Speeding  Speeding   \n",
       "3          1986.0        19.0       White  Call for Service     Other   \n",
       "4          1984.0        21.0       White          Speeding  Speeding   \n",
       "\n",
       "   search_conducted search_type   stop_outcome is_arrested stop_duration  \\\n",
       "0             False         NaN       Citation       False      0-15 Min   \n",
       "1             False         NaN       Citation       False      0-15 Min   \n",
       "2             False         NaN       Citation       False      0-15 Min   \n",
       "3             False         NaN  Arrest Driver        True     16-30 Min   \n",
       "4             False         NaN       Citation       False      0-15 Min   \n",
       "\n",
       "   drugs_related_stop  \n",
       "0               False  \n",
       "1               False  \n",
       "2               False  \n",
       "3               False  \n",
       "4               False  "
      ]
     },
     "execution_count": 387,
     "metadata": {},
     "output_type": "execute_result"
    }
   ],
   "source": [
    "police.head()"
   ]
  },
  {
   "cell_type": "code",
   "execution_count": 388,
   "id": "4a8502b5",
   "metadata": {},
   "outputs": [
    {
     "data": {
      "text/html": [
       "<div>\n",
       "<style scoped>\n",
       "    .dataframe tbody tr th:only-of-type {\n",
       "        vertical-align: middle;\n",
       "    }\n",
       "\n",
       "    .dataframe tbody tr th {\n",
       "        vertical-align: top;\n",
       "    }\n",
       "\n",
       "    .dataframe thead th {\n",
       "        text-align: right;\n",
       "    }\n",
       "</style>\n",
       "<table border=\"1\" class=\"dataframe\">\n",
       "  <thead>\n",
       "    <tr style=\"text-align: right;\">\n",
       "      <th></th>\n",
       "      <th>stop_year</th>\n",
       "      <th>stop_hour</th>\n",
       "      <th>stop_daytime</th>\n",
       "      <th>driver_gender</th>\n",
       "      <th>driver_age</th>\n",
       "      <th>driver_race</th>\n",
       "      <th>violation_raw</th>\n",
       "      <th>violation</th>\n",
       "      <th>search_conducted</th>\n",
       "      <th>search_type</th>\n",
       "      <th>stop_outcome</th>\n",
       "      <th>is_arrested</th>\n",
       "      <th>stop_duration</th>\n",
       "      <th>drugs_related_stop</th>\n",
       "    </tr>\n",
       "  </thead>\n",
       "  <tbody>\n",
       "    <tr>\n",
       "      <th>0</th>\n",
       "      <td>2005</td>\n",
       "      <td>1</td>\n",
       "      <td>Night</td>\n",
       "      <td>M</td>\n",
       "      <td>20.0</td>\n",
       "      <td>White</td>\n",
       "      <td>Speeding</td>\n",
       "      <td>Speeding</td>\n",
       "      <td>False</td>\n",
       "      <td>NaN</td>\n",
       "      <td>Citation</td>\n",
       "      <td>False</td>\n",
       "      <td>0-15 Min</td>\n",
       "      <td>False</td>\n",
       "    </tr>\n",
       "    <tr>\n",
       "      <th>1</th>\n",
       "      <td>2005</td>\n",
       "      <td>8</td>\n",
       "      <td>Morning</td>\n",
       "      <td>M</td>\n",
       "      <td>40.0</td>\n",
       "      <td>White</td>\n",
       "      <td>Speeding</td>\n",
       "      <td>Speeding</td>\n",
       "      <td>False</td>\n",
       "      <td>NaN</td>\n",
       "      <td>Citation</td>\n",
       "      <td>False</td>\n",
       "      <td>0-15 Min</td>\n",
       "      <td>False</td>\n",
       "    </tr>\n",
       "    <tr>\n",
       "      <th>2</th>\n",
       "      <td>2005</td>\n",
       "      <td>23</td>\n",
       "      <td>Night</td>\n",
       "      <td>M</td>\n",
       "      <td>33.0</td>\n",
       "      <td>White</td>\n",
       "      <td>Speeding</td>\n",
       "      <td>Speeding</td>\n",
       "      <td>False</td>\n",
       "      <td>NaN</td>\n",
       "      <td>Citation</td>\n",
       "      <td>False</td>\n",
       "      <td>0-15 Min</td>\n",
       "      <td>False</td>\n",
       "    </tr>\n",
       "    <tr>\n",
       "      <th>3</th>\n",
       "      <td>2005</td>\n",
       "      <td>17</td>\n",
       "      <td>Afternoon</td>\n",
       "      <td>M</td>\n",
       "      <td>19.0</td>\n",
       "      <td>White</td>\n",
       "      <td>Call for Service</td>\n",
       "      <td>Other</td>\n",
       "      <td>False</td>\n",
       "      <td>NaN</td>\n",
       "      <td>Arrest Driver</td>\n",
       "      <td>True</td>\n",
       "      <td>16-30 Min</td>\n",
       "      <td>False</td>\n",
       "    </tr>\n",
       "    <tr>\n",
       "      <th>4</th>\n",
       "      <td>2005</td>\n",
       "      <td>10</td>\n",
       "      <td>Morning</td>\n",
       "      <td>F</td>\n",
       "      <td>21.0</td>\n",
       "      <td>White</td>\n",
       "      <td>Speeding</td>\n",
       "      <td>Speeding</td>\n",
       "      <td>False</td>\n",
       "      <td>NaN</td>\n",
       "      <td>Citation</td>\n",
       "      <td>False</td>\n",
       "      <td>0-15 Min</td>\n",
       "      <td>False</td>\n",
       "    </tr>\n",
       "  </tbody>\n",
       "</table>\n",
       "</div>"
      ],
      "text/plain": [
       "   stop_year  stop_hour stop_daytime driver_gender  driver_age driver_race  \\\n",
       "0       2005          1        Night             M        20.0       White   \n",
       "1       2005          8      Morning             M        40.0       White   \n",
       "2       2005         23        Night             M        33.0       White   \n",
       "3       2005         17    Afternoon             M        19.0       White   \n",
       "4       2005         10      Morning             F        21.0       White   \n",
       "\n",
       "      violation_raw violation  search_conducted search_type   stop_outcome  \\\n",
       "0          Speeding  Speeding             False         NaN       Citation   \n",
       "1          Speeding  Speeding             False         NaN       Citation   \n",
       "2          Speeding  Speeding             False         NaN       Citation   \n",
       "3  Call for Service     Other             False         NaN  Arrest Driver   \n",
       "4          Speeding  Speeding             False         NaN       Citation   \n",
       "\n",
       "  is_arrested stop_duration  drugs_related_stop  \n",
       "0       False      0-15 Min               False  \n",
       "1       False      0-15 Min               False  \n",
       "2       False      0-15 Min               False  \n",
       "3        True     16-30 Min               False  \n",
       "4       False      0-15 Min               False  "
      ]
     },
     "execution_count": 388,
     "metadata": {},
     "output_type": "execute_result"
    }
   ],
   "source": [
    "police = police.drop(\n",
    "    labels=['stop_date','stop_time','driver_age_raw'],\n",
    "    axis=1)\n",
    "police.head()"
   ]
  },
  {
   "cell_type": "code",
   "execution_count": 389,
   "id": "12e6aa01",
   "metadata": {},
   "outputs": [
    {
     "data": {
      "text/html": [
       "<div>\n",
       "<style scoped>\n",
       "    .dataframe tbody tr th:only-of-type {\n",
       "        vertical-align: middle;\n",
       "    }\n",
       "\n",
       "    .dataframe tbody tr th {\n",
       "        vertical-align: top;\n",
       "    }\n",
       "\n",
       "    .dataframe thead th {\n",
       "        text-align: right;\n",
       "    }\n",
       "</style>\n",
       "<table border=\"1\" class=\"dataframe\">\n",
       "  <thead>\n",
       "    <tr style=\"text-align: right;\">\n",
       "      <th></th>\n",
       "      <th>stop_year</th>\n",
       "      <th>stop_hour</th>\n",
       "      <th>stop_daytime</th>\n",
       "      <th>driver_gender</th>\n",
       "      <th>driver_age</th>\n",
       "      <th>driver_race</th>\n",
       "      <th>violation_raw</th>\n",
       "      <th>violation</th>\n",
       "      <th>search_conducted</th>\n",
       "      <th>search_type</th>\n",
       "      <th>stop_outcome</th>\n",
       "      <th>is_arrested</th>\n",
       "      <th>stop_duration</th>\n",
       "      <th>drugs_related_stop</th>\n",
       "    </tr>\n",
       "  </thead>\n",
       "  <tbody>\n",
       "    <tr>\n",
       "      <th>18357</th>\n",
       "      <td>2007</td>\n",
       "      <td>0</td>\n",
       "      <td>Night</td>\n",
       "      <td>F</td>\n",
       "      <td>15.0</td>\n",
       "      <td>White</td>\n",
       "      <td>Other Traffic Violation</td>\n",
       "      <td>Moving violation</td>\n",
       "      <td>False</td>\n",
       "      <td>NaN</td>\n",
       "      <td>Arrest Driver</td>\n",
       "      <td>True</td>\n",
       "      <td>0-15 Min</td>\n",
       "      <td>False</td>\n",
       "    </tr>\n",
       "    <tr>\n",
       "      <th>17771</th>\n",
       "      <td>2007</td>\n",
       "      <td>12</td>\n",
       "      <td>Afternoon</td>\n",
       "      <td>M</td>\n",
       "      <td>15.0</td>\n",
       "      <td>White</td>\n",
       "      <td>Speeding</td>\n",
       "      <td>Speeding</td>\n",
       "      <td>False</td>\n",
       "      <td>NaN</td>\n",
       "      <td>Citation</td>\n",
       "      <td>False</td>\n",
       "      <td>0-15 Min</td>\n",
       "      <td>False</td>\n",
       "    </tr>\n",
       "    <tr>\n",
       "      <th>45988</th>\n",
       "      <td>2010</td>\n",
       "      <td>19</td>\n",
       "      <td>Evening</td>\n",
       "      <td>F</td>\n",
       "      <td>15.0</td>\n",
       "      <td>White</td>\n",
       "      <td>Other Traffic Violation</td>\n",
       "      <td>Moving violation</td>\n",
       "      <td>False</td>\n",
       "      <td>NaN</td>\n",
       "      <td>Citation</td>\n",
       "      <td>False</td>\n",
       "      <td>16-30 Min</td>\n",
       "      <td>False</td>\n",
       "    </tr>\n",
       "    <tr>\n",
       "      <th>10500</th>\n",
       "      <td>2006</td>\n",
       "      <td>1</td>\n",
       "      <td>Night</td>\n",
       "      <td>M</td>\n",
       "      <td>15.0</td>\n",
       "      <td>Black</td>\n",
       "      <td>Other Traffic Violation</td>\n",
       "      <td>Moving violation</td>\n",
       "      <td>False</td>\n",
       "      <td>NaN</td>\n",
       "      <td>Arrest Driver</td>\n",
       "      <td>True</td>\n",
       "      <td>30+ Min</td>\n",
       "      <td>False</td>\n",
       "    </tr>\n",
       "    <tr>\n",
       "      <th>25294</th>\n",
       "      <td>2008</td>\n",
       "      <td>11</td>\n",
       "      <td>Morning</td>\n",
       "      <td>M</td>\n",
       "      <td>15.0</td>\n",
       "      <td>Hispanic</td>\n",
       "      <td>Other Traffic Violation</td>\n",
       "      <td>Moving violation</td>\n",
       "      <td>True</td>\n",
       "      <td>Incident to Arrest</td>\n",
       "      <td>Arrest Driver</td>\n",
       "      <td>True</td>\n",
       "      <td>30+ Min</td>\n",
       "      <td>False</td>\n",
       "    </tr>\n",
       "    <tr>\n",
       "      <th>...</th>\n",
       "      <td>...</td>\n",
       "      <td>...</td>\n",
       "      <td>...</td>\n",
       "      <td>...</td>\n",
       "      <td>...</td>\n",
       "      <td>...</td>\n",
       "      <td>...</td>\n",
       "      <td>...</td>\n",
       "      <td>...</td>\n",
       "      <td>...</td>\n",
       "      <td>...</td>\n",
       "      <td>...</td>\n",
       "      <td>...</td>\n",
       "      <td>...</td>\n",
       "    </tr>\n",
       "    <tr>\n",
       "      <th>91637</th>\n",
       "      <td>2015</td>\n",
       "      <td>9</td>\n",
       "      <td>Morning</td>\n",
       "      <td>NaN</td>\n",
       "      <td>NaN</td>\n",
       "      <td>NaN</td>\n",
       "      <td>NaN</td>\n",
       "      <td>NaN</td>\n",
       "      <td>False</td>\n",
       "      <td>NaN</td>\n",
       "      <td>NaN</td>\n",
       "      <td>NaN</td>\n",
       "      <td>NaN</td>\n",
       "      <td>False</td>\n",
       "    </tr>\n",
       "    <tr>\n",
       "      <th>91660</th>\n",
       "      <td>2015</td>\n",
       "      <td>2</td>\n",
       "      <td>Night</td>\n",
       "      <td>NaN</td>\n",
       "      <td>NaN</td>\n",
       "      <td>NaN</td>\n",
       "      <td>NaN</td>\n",
       "      <td>NaN</td>\n",
       "      <td>False</td>\n",
       "      <td>NaN</td>\n",
       "      <td>NaN</td>\n",
       "      <td>NaN</td>\n",
       "      <td>NaN</td>\n",
       "      <td>False</td>\n",
       "    </tr>\n",
       "    <tr>\n",
       "      <th>91674</th>\n",
       "      <td>2015</td>\n",
       "      <td>12</td>\n",
       "      <td>Afternoon</td>\n",
       "      <td>NaN</td>\n",
       "      <td>NaN</td>\n",
       "      <td>NaN</td>\n",
       "      <td>NaN</td>\n",
       "      <td>NaN</td>\n",
       "      <td>False</td>\n",
       "      <td>NaN</td>\n",
       "      <td>NaN</td>\n",
       "      <td>NaN</td>\n",
       "      <td>NaN</td>\n",
       "      <td>False</td>\n",
       "    </tr>\n",
       "    <tr>\n",
       "      <th>91710</th>\n",
       "      <td>2015</td>\n",
       "      <td>13</td>\n",
       "      <td>Afternoon</td>\n",
       "      <td>NaN</td>\n",
       "      <td>NaN</td>\n",
       "      <td>NaN</td>\n",
       "      <td>NaN</td>\n",
       "      <td>NaN</td>\n",
       "      <td>False</td>\n",
       "      <td>NaN</td>\n",
       "      <td>NaN</td>\n",
       "      <td>NaN</td>\n",
       "      <td>NaN</td>\n",
       "      <td>False</td>\n",
       "    </tr>\n",
       "    <tr>\n",
       "      <th>91713</th>\n",
       "      <td>2015</td>\n",
       "      <td>17</td>\n",
       "      <td>Afternoon</td>\n",
       "      <td>NaN</td>\n",
       "      <td>NaN</td>\n",
       "      <td>NaN</td>\n",
       "      <td>NaN</td>\n",
       "      <td>NaN</td>\n",
       "      <td>False</td>\n",
       "      <td>NaN</td>\n",
       "      <td>NaN</td>\n",
       "      <td>NaN</td>\n",
       "      <td>NaN</td>\n",
       "      <td>False</td>\n",
       "    </tr>\n",
       "  </tbody>\n",
       "</table>\n",
       "<p>91741 rows × 14 columns</p>\n",
       "</div>"
      ],
      "text/plain": [
       "       stop_year  stop_hour stop_daytime driver_gender  driver_age  \\\n",
       "18357       2007          0        Night             F        15.0   \n",
       "17771       2007         12    Afternoon             M        15.0   \n",
       "45988       2010         19      Evening             F        15.0   \n",
       "10500       2006          1        Night             M        15.0   \n",
       "25294       2008         11      Morning             M        15.0   \n",
       "...          ...        ...          ...           ...         ...   \n",
       "91637       2015          9      Morning           NaN         NaN   \n",
       "91660       2015          2        Night           NaN         NaN   \n",
       "91674       2015         12    Afternoon           NaN         NaN   \n",
       "91710       2015         13    Afternoon           NaN         NaN   \n",
       "91713       2015         17    Afternoon           NaN         NaN   \n",
       "\n",
       "      driver_race            violation_raw         violation  \\\n",
       "18357       White  Other Traffic Violation  Moving violation   \n",
       "17771       White                 Speeding          Speeding   \n",
       "45988       White  Other Traffic Violation  Moving violation   \n",
       "10500       Black  Other Traffic Violation  Moving violation   \n",
       "25294    Hispanic  Other Traffic Violation  Moving violation   \n",
       "...           ...                      ...               ...   \n",
       "91637         NaN                      NaN               NaN   \n",
       "91660         NaN                      NaN               NaN   \n",
       "91674         NaN                      NaN               NaN   \n",
       "91710         NaN                      NaN               NaN   \n",
       "91713         NaN                      NaN               NaN   \n",
       "\n",
       "       search_conducted         search_type   stop_outcome is_arrested  \\\n",
       "18357             False                 NaN  Arrest Driver        True   \n",
       "17771             False                 NaN       Citation       False   \n",
       "45988             False                 NaN       Citation       False   \n",
       "10500             False                 NaN  Arrest Driver        True   \n",
       "25294              True  Incident to Arrest  Arrest Driver        True   \n",
       "...                 ...                 ...            ...         ...   \n",
       "91637             False                 NaN            NaN         NaN   \n",
       "91660             False                 NaN            NaN         NaN   \n",
       "91674             False                 NaN            NaN         NaN   \n",
       "91710             False                 NaN            NaN         NaN   \n",
       "91713             False                 NaN            NaN         NaN   \n",
       "\n",
       "      stop_duration  drugs_related_stop  \n",
       "18357      0-15 Min               False  \n",
       "17771      0-15 Min               False  \n",
       "45988     16-30 Min               False  \n",
       "10500       30+ Min               False  \n",
       "25294       30+ Min               False  \n",
       "...             ...                 ...  \n",
       "91637           NaN               False  \n",
       "91660           NaN               False  \n",
       "91674           NaN               False  \n",
       "91710           NaN               False  \n",
       "91713           NaN               False  \n",
       "\n",
       "[91741 rows x 14 columns]"
      ]
     },
     "execution_count": 389,
     "metadata": {},
     "output_type": "execute_result"
    }
   ],
   "source": [
    "police.sort_values(by='driver_age')"
   ]
  },
  {
   "cell_type": "code",
   "execution_count": 390,
   "id": "692383aa",
   "metadata": {},
   "outputs": [
    {
     "data": {
      "text/html": [
       "<div>\n",
       "<style scoped>\n",
       "    .dataframe tbody tr th:only-of-type {\n",
       "        vertical-align: middle;\n",
       "    }\n",
       "\n",
       "    .dataframe tbody tr th {\n",
       "        vertical-align: top;\n",
       "    }\n",
       "\n",
       "    .dataframe thead th {\n",
       "        text-align: right;\n",
       "    }\n",
       "</style>\n",
       "<table border=\"1\" class=\"dataframe\">\n",
       "  <thead>\n",
       "    <tr style=\"text-align: right;\">\n",
       "      <th></th>\n",
       "      <th>stop_year</th>\n",
       "      <th>stop_hour</th>\n",
       "      <th>stop_daytime</th>\n",
       "      <th>driver_gender</th>\n",
       "      <th>driver_age</th>\n",
       "      <th>driver_race</th>\n",
       "      <th>violation_raw</th>\n",
       "      <th>violation</th>\n",
       "      <th>search_conducted</th>\n",
       "      <th>search_type</th>\n",
       "      <th>stop_outcome</th>\n",
       "      <th>is_arrested</th>\n",
       "      <th>stop_duration</th>\n",
       "      <th>drugs_related_stop</th>\n",
       "    </tr>\n",
       "  </thead>\n",
       "  <tbody>\n",
       "    <tr>\n",
       "      <th>71539</th>\n",
       "      <td>2013</td>\n",
       "      <td>9</td>\n",
       "      <td>Morning</td>\n",
       "      <td>F</td>\n",
       "      <td>99.0</td>\n",
       "      <td>White</td>\n",
       "      <td>Other Traffic Violation</td>\n",
       "      <td>Moving violation</td>\n",
       "      <td>False</td>\n",
       "      <td>NaN</td>\n",
       "      <td>Citation</td>\n",
       "      <td>False</td>\n",
       "      <td>16-30 Min</td>\n",
       "      <td>False</td>\n",
       "    </tr>\n",
       "    <tr>\n",
       "      <th>75037</th>\n",
       "      <td>2014</td>\n",
       "      <td>10</td>\n",
       "      <td>Morning</td>\n",
       "      <td>M</td>\n",
       "      <td>94.0</td>\n",
       "      <td>White</td>\n",
       "      <td>Other Traffic Violation</td>\n",
       "      <td>Moving violation</td>\n",
       "      <td>False</td>\n",
       "      <td>NaN</td>\n",
       "      <td>Citation</td>\n",
       "      <td>False</td>\n",
       "      <td>0-15 Min</td>\n",
       "      <td>False</td>\n",
       "    </tr>\n",
       "    <tr>\n",
       "      <th>76956</th>\n",
       "      <td>2014</td>\n",
       "      <td>16</td>\n",
       "      <td>Afternoon</td>\n",
       "      <td>M</td>\n",
       "      <td>90.0</td>\n",
       "      <td>White</td>\n",
       "      <td>Speeding</td>\n",
       "      <td>Speeding</td>\n",
       "      <td>False</td>\n",
       "      <td>NaN</td>\n",
       "      <td>Warning</td>\n",
       "      <td>False</td>\n",
       "      <td>0-15 Min</td>\n",
       "      <td>False</td>\n",
       "    </tr>\n",
       "    <tr>\n",
       "      <th>74348</th>\n",
       "      <td>2014</td>\n",
       "      <td>13</td>\n",
       "      <td>Afternoon</td>\n",
       "      <td>F</td>\n",
       "      <td>89.0</td>\n",
       "      <td>White</td>\n",
       "      <td>Equipment/Inspection Violation</td>\n",
       "      <td>Equipment</td>\n",
       "      <td>False</td>\n",
       "      <td>NaN</td>\n",
       "      <td>N/D</td>\n",
       "      <td>False</td>\n",
       "      <td>0-15 Min</td>\n",
       "      <td>False</td>\n",
       "    </tr>\n",
       "    <tr>\n",
       "      <th>9829</th>\n",
       "      <td>2006</td>\n",
       "      <td>12</td>\n",
       "      <td>Afternoon</td>\n",
       "      <td>M</td>\n",
       "      <td>88.0</td>\n",
       "      <td>White</td>\n",
       "      <td>Speeding</td>\n",
       "      <td>Speeding</td>\n",
       "      <td>False</td>\n",
       "      <td>NaN</td>\n",
       "      <td>Citation</td>\n",
       "      <td>False</td>\n",
       "      <td>16-30 Min</td>\n",
       "      <td>False</td>\n",
       "    </tr>\n",
       "    <tr>\n",
       "      <th>...</th>\n",
       "      <td>...</td>\n",
       "      <td>...</td>\n",
       "      <td>...</td>\n",
       "      <td>...</td>\n",
       "      <td>...</td>\n",
       "      <td>...</td>\n",
       "      <td>...</td>\n",
       "      <td>...</td>\n",
       "      <td>...</td>\n",
       "      <td>...</td>\n",
       "      <td>...</td>\n",
       "      <td>...</td>\n",
       "      <td>...</td>\n",
       "      <td>...</td>\n",
       "    </tr>\n",
       "    <tr>\n",
       "      <th>91637</th>\n",
       "      <td>2015</td>\n",
       "      <td>9</td>\n",
       "      <td>Morning</td>\n",
       "      <td>NaN</td>\n",
       "      <td>NaN</td>\n",
       "      <td>NaN</td>\n",
       "      <td>NaN</td>\n",
       "      <td>NaN</td>\n",
       "      <td>False</td>\n",
       "      <td>NaN</td>\n",
       "      <td>NaN</td>\n",
       "      <td>NaN</td>\n",
       "      <td>NaN</td>\n",
       "      <td>False</td>\n",
       "    </tr>\n",
       "    <tr>\n",
       "      <th>91660</th>\n",
       "      <td>2015</td>\n",
       "      <td>2</td>\n",
       "      <td>Night</td>\n",
       "      <td>NaN</td>\n",
       "      <td>NaN</td>\n",
       "      <td>NaN</td>\n",
       "      <td>NaN</td>\n",
       "      <td>NaN</td>\n",
       "      <td>False</td>\n",
       "      <td>NaN</td>\n",
       "      <td>NaN</td>\n",
       "      <td>NaN</td>\n",
       "      <td>NaN</td>\n",
       "      <td>False</td>\n",
       "    </tr>\n",
       "    <tr>\n",
       "      <th>91674</th>\n",
       "      <td>2015</td>\n",
       "      <td>12</td>\n",
       "      <td>Afternoon</td>\n",
       "      <td>NaN</td>\n",
       "      <td>NaN</td>\n",
       "      <td>NaN</td>\n",
       "      <td>NaN</td>\n",
       "      <td>NaN</td>\n",
       "      <td>False</td>\n",
       "      <td>NaN</td>\n",
       "      <td>NaN</td>\n",
       "      <td>NaN</td>\n",
       "      <td>NaN</td>\n",
       "      <td>False</td>\n",
       "    </tr>\n",
       "    <tr>\n",
       "      <th>91710</th>\n",
       "      <td>2015</td>\n",
       "      <td>13</td>\n",
       "      <td>Afternoon</td>\n",
       "      <td>NaN</td>\n",
       "      <td>NaN</td>\n",
       "      <td>NaN</td>\n",
       "      <td>NaN</td>\n",
       "      <td>NaN</td>\n",
       "      <td>False</td>\n",
       "      <td>NaN</td>\n",
       "      <td>NaN</td>\n",
       "      <td>NaN</td>\n",
       "      <td>NaN</td>\n",
       "      <td>False</td>\n",
       "    </tr>\n",
       "    <tr>\n",
       "      <th>91713</th>\n",
       "      <td>2015</td>\n",
       "      <td>17</td>\n",
       "      <td>Afternoon</td>\n",
       "      <td>NaN</td>\n",
       "      <td>NaN</td>\n",
       "      <td>NaN</td>\n",
       "      <td>NaN</td>\n",
       "      <td>NaN</td>\n",
       "      <td>False</td>\n",
       "      <td>NaN</td>\n",
       "      <td>NaN</td>\n",
       "      <td>NaN</td>\n",
       "      <td>NaN</td>\n",
       "      <td>False</td>\n",
       "    </tr>\n",
       "  </tbody>\n",
       "</table>\n",
       "<p>91741 rows × 14 columns</p>\n",
       "</div>"
      ],
      "text/plain": [
       "       stop_year  stop_hour stop_daytime driver_gender  driver_age  \\\n",
       "71539       2013          9      Morning             F        99.0   \n",
       "75037       2014         10      Morning             M        94.0   \n",
       "76956       2014         16    Afternoon             M        90.0   \n",
       "74348       2014         13    Afternoon             F        89.0   \n",
       "9829        2006         12    Afternoon             M        88.0   \n",
       "...          ...        ...          ...           ...         ...   \n",
       "91637       2015          9      Morning           NaN         NaN   \n",
       "91660       2015          2        Night           NaN         NaN   \n",
       "91674       2015         12    Afternoon           NaN         NaN   \n",
       "91710       2015         13    Afternoon           NaN         NaN   \n",
       "91713       2015         17    Afternoon           NaN         NaN   \n",
       "\n",
       "      driver_race                   violation_raw         violation  \\\n",
       "71539       White         Other Traffic Violation  Moving violation   \n",
       "75037       White         Other Traffic Violation  Moving violation   \n",
       "76956       White                        Speeding          Speeding   \n",
       "74348       White  Equipment/Inspection Violation         Equipment   \n",
       "9829        White                        Speeding          Speeding   \n",
       "...           ...                             ...               ...   \n",
       "91637         NaN                             NaN               NaN   \n",
       "91660         NaN                             NaN               NaN   \n",
       "91674         NaN                             NaN               NaN   \n",
       "91710         NaN                             NaN               NaN   \n",
       "91713         NaN                             NaN               NaN   \n",
       "\n",
       "       search_conducted search_type stop_outcome is_arrested stop_duration  \\\n",
       "71539             False         NaN     Citation       False     16-30 Min   \n",
       "75037             False         NaN     Citation       False      0-15 Min   \n",
       "76956             False         NaN      Warning       False      0-15 Min   \n",
       "74348             False         NaN          N/D       False      0-15 Min   \n",
       "9829              False         NaN     Citation       False     16-30 Min   \n",
       "...                 ...         ...          ...         ...           ...   \n",
       "91637             False         NaN          NaN         NaN           NaN   \n",
       "91660             False         NaN          NaN         NaN           NaN   \n",
       "91674             False         NaN          NaN         NaN           NaN   \n",
       "91710             False         NaN          NaN         NaN           NaN   \n",
       "91713             False         NaN          NaN         NaN           NaN   \n",
       "\n",
       "       drugs_related_stop  \n",
       "71539               False  \n",
       "75037               False  \n",
       "76956               False  \n",
       "74348               False  \n",
       "9829                False  \n",
       "...                   ...  \n",
       "91637               False  \n",
       "91660               False  \n",
       "91674               False  \n",
       "91710               False  \n",
       "91713               False  \n",
       "\n",
       "[91741 rows x 14 columns]"
      ]
     },
     "execution_count": 390,
     "metadata": {},
     "output_type": "execute_result"
    }
   ],
   "source": [
    "police.sort_values(by='driver_age',ascending=False)"
   ]
  },
  {
   "cell_type": "code",
   "execution_count": 391,
   "id": "32a6a0cc",
   "metadata": {},
   "outputs": [
    {
     "name": "stdout",
     "output_type": "stream",
     "text": [
      "<class 'pandas.core.frame.DataFrame'>\n",
      "RangeIndex: 91741 entries, 0 to 91740\n",
      "Data columns (total 14 columns):\n",
      " #   Column              Non-Null Count  Dtype  \n",
      "---  ------              --------------  -----  \n",
      " 0   stop_year           91741 non-null  int64  \n",
      " 1   stop_hour           91741 non-null  int64  \n",
      " 2   stop_daytime        91741 non-null  object \n",
      " 3   driver_gender       86406 non-null  object \n",
      " 4   driver_age          86120 non-null  float64\n",
      " 5   driver_race         86408 non-null  object \n",
      " 6   violation_raw       86408 non-null  object \n",
      " 7   violation           86408 non-null  object \n",
      " 8   search_conducted    91741 non-null  bool   \n",
      " 9   search_type         3196 non-null   object \n",
      " 10  stop_outcome        86408 non-null  object \n",
      " 11  is_arrested         86408 non-null  object \n",
      " 12  stop_duration       86408 non-null  object \n",
      " 13  drugs_related_stop  91741 non-null  bool   \n",
      "dtypes: bool(2), float64(1), int64(2), object(9)\n",
      "memory usage: 8.6+ MB\n"
     ]
    }
   ],
   "source": [
    "police.info()"
   ]
  },
  {
   "cell_type": "code",
   "execution_count": 392,
   "id": "35133308",
   "metadata": {},
   "outputs": [
    {
     "data": {
      "text/html": [
       "<div>\n",
       "<style scoped>\n",
       "    .dataframe tbody tr th:only-of-type {\n",
       "        vertical-align: middle;\n",
       "    }\n",
       "\n",
       "    .dataframe tbody tr th {\n",
       "        vertical-align: top;\n",
       "    }\n",
       "\n",
       "    .dataframe thead th {\n",
       "        text-align: right;\n",
       "    }\n",
       "</style>\n",
       "<table border=\"1\" class=\"dataframe\">\n",
       "  <thead>\n",
       "    <tr style=\"text-align: right;\">\n",
       "      <th></th>\n",
       "      <th>stop_year</th>\n",
       "      <th>stop_hour</th>\n",
       "      <th>stop_daytime</th>\n",
       "      <th>driver_gender</th>\n",
       "      <th>driver_age</th>\n",
       "      <th>driver_race</th>\n",
       "      <th>violation_raw</th>\n",
       "      <th>violation</th>\n",
       "      <th>search_conducted</th>\n",
       "      <th>search_type</th>\n",
       "      <th>stop_outcome</th>\n",
       "      <th>is_arrested</th>\n",
       "      <th>stop_duration</th>\n",
       "      <th>drugs_related_stop</th>\n",
       "    </tr>\n",
       "  </thead>\n",
       "  <tbody>\n",
       "    <tr>\n",
       "      <th>0</th>\n",
       "      <td>2005</td>\n",
       "      <td>1</td>\n",
       "      <td>Night</td>\n",
       "      <td>M</td>\n",
       "      <td>20.0</td>\n",
       "      <td>White</td>\n",
       "      <td>Speeding</td>\n",
       "      <td>Speeding</td>\n",
       "      <td>False</td>\n",
       "      <td>NaN</td>\n",
       "      <td>Citation</td>\n",
       "      <td>False</td>\n",
       "      <td>0-15 Min</td>\n",
       "      <td>False</td>\n",
       "    </tr>\n",
       "    <tr>\n",
       "      <th>1</th>\n",
       "      <td>2005</td>\n",
       "      <td>8</td>\n",
       "      <td>Morning</td>\n",
       "      <td>M</td>\n",
       "      <td>40.0</td>\n",
       "      <td>White</td>\n",
       "      <td>Speeding</td>\n",
       "      <td>Speeding</td>\n",
       "      <td>False</td>\n",
       "      <td>NaN</td>\n",
       "      <td>Citation</td>\n",
       "      <td>False</td>\n",
       "      <td>0-15 Min</td>\n",
       "      <td>False</td>\n",
       "    </tr>\n",
       "    <tr>\n",
       "      <th>2</th>\n",
       "      <td>2005</td>\n",
       "      <td>23</td>\n",
       "      <td>Night</td>\n",
       "      <td>M</td>\n",
       "      <td>33.0</td>\n",
       "      <td>White</td>\n",
       "      <td>Speeding</td>\n",
       "      <td>Speeding</td>\n",
       "      <td>False</td>\n",
       "      <td>NaN</td>\n",
       "      <td>Citation</td>\n",
       "      <td>False</td>\n",
       "      <td>0-15 Min</td>\n",
       "      <td>False</td>\n",
       "    </tr>\n",
       "    <tr>\n",
       "      <th>3</th>\n",
       "      <td>2005</td>\n",
       "      <td>17</td>\n",
       "      <td>Afternoon</td>\n",
       "      <td>M</td>\n",
       "      <td>19.0</td>\n",
       "      <td>White</td>\n",
       "      <td>Call for Service</td>\n",
       "      <td>Other</td>\n",
       "      <td>False</td>\n",
       "      <td>NaN</td>\n",
       "      <td>Arrest Driver</td>\n",
       "      <td>True</td>\n",
       "      <td>16-30 Min</td>\n",
       "      <td>False</td>\n",
       "    </tr>\n",
       "    <tr>\n",
       "      <th>4</th>\n",
       "      <td>2005</td>\n",
       "      <td>10</td>\n",
       "      <td>Morning</td>\n",
       "      <td>F</td>\n",
       "      <td>21.0</td>\n",
       "      <td>White</td>\n",
       "      <td>Speeding</td>\n",
       "      <td>Speeding</td>\n",
       "      <td>False</td>\n",
       "      <td>NaN</td>\n",
       "      <td>Citation</td>\n",
       "      <td>False</td>\n",
       "      <td>0-15 Min</td>\n",
       "      <td>False</td>\n",
       "    </tr>\n",
       "  </tbody>\n",
       "</table>\n",
       "</div>"
      ],
      "text/plain": [
       "   stop_year  stop_hour stop_daytime driver_gender  driver_age driver_race  \\\n",
       "0       2005          1        Night             M        20.0       White   \n",
       "1       2005          8      Morning             M        40.0       White   \n",
       "2       2005         23        Night             M        33.0       White   \n",
       "3       2005         17    Afternoon             M        19.0       White   \n",
       "4       2005         10      Morning             F        21.0       White   \n",
       "\n",
       "      violation_raw violation  search_conducted search_type   stop_outcome  \\\n",
       "0          Speeding  Speeding             False         NaN       Citation   \n",
       "1          Speeding  Speeding             False         NaN       Citation   \n",
       "2          Speeding  Speeding             False         NaN       Citation   \n",
       "3  Call for Service     Other             False         NaN  Arrest Driver   \n",
       "4          Speeding  Speeding             False         NaN       Citation   \n",
       "\n",
       "  is_arrested stop_duration  drugs_related_stop  \n",
       "0       False      0-15 Min               False  \n",
       "1       False      0-15 Min               False  \n",
       "2       False      0-15 Min               False  \n",
       "3        True     16-30 Min               False  \n",
       "4       False      0-15 Min               False  "
      ]
     },
     "execution_count": 392,
     "metadata": {},
     "output_type": "execute_result"
    }
   ],
   "source": [
    "police = police[police['driver_gender'].notna()]\n",
    "police = police[police['driver_age'].notna()]\n",
    "police = police[police['driver_race'].notna()]\n",
    "police.head()"
   ]
  },
  {
   "cell_type": "code",
   "execution_count": 393,
   "id": "b5a6d1a2",
   "metadata": {},
   "outputs": [
    {
     "name": "stdout",
     "output_type": "stream",
     "text": [
      "<class 'pandas.core.frame.DataFrame'>\n",
      "Int64Index: 86113 entries, 0 to 91740\n",
      "Data columns (total 14 columns):\n",
      " #   Column              Non-Null Count  Dtype  \n",
      "---  ------              --------------  -----  \n",
      " 0   stop_year           86113 non-null  int64  \n",
      " 1   stop_hour           86113 non-null  int64  \n",
      " 2   stop_daytime        86113 non-null  object \n",
      " 3   driver_gender       86113 non-null  object \n",
      " 4   driver_age          86113 non-null  float64\n",
      " 5   driver_race         86113 non-null  object \n",
      " 6   violation_raw       86113 non-null  object \n",
      " 7   violation           86113 non-null  object \n",
      " 8   search_conducted    86113 non-null  bool   \n",
      " 9   search_type         3193 non-null   object \n",
      " 10  stop_outcome        86113 non-null  object \n",
      " 11  is_arrested         86113 non-null  object \n",
      " 12  stop_duration       86113 non-null  object \n",
      " 13  drugs_related_stop  86113 non-null  bool   \n",
      "dtypes: bool(2), float64(1), int64(2), object(9)\n",
      "memory usage: 8.7+ MB\n"
     ]
    }
   ],
   "source": [
    "police.info()"
   ]
  },
  {
   "cell_type": "code",
   "execution_count": 394,
   "id": "a09a98d1",
   "metadata": {},
   "outputs": [],
   "source": [
    "police['driver_age'] = police['driver_age'].astype('int64')"
   ]
  },
  {
   "cell_type": "code",
   "execution_count": 395,
   "id": "82a6908b",
   "metadata": {},
   "outputs": [
    {
     "data": {
      "text/html": [
       "<div>\n",
       "<style scoped>\n",
       "    .dataframe tbody tr th:only-of-type {\n",
       "        vertical-align: middle;\n",
       "    }\n",
       "\n",
       "    .dataframe tbody tr th {\n",
       "        vertical-align: top;\n",
       "    }\n",
       "\n",
       "    .dataframe thead th {\n",
       "        text-align: right;\n",
       "    }\n",
       "</style>\n",
       "<table border=\"1\" class=\"dataframe\">\n",
       "  <thead>\n",
       "    <tr style=\"text-align: right;\">\n",
       "      <th></th>\n",
       "      <th>stop_year</th>\n",
       "      <th>stop_hour</th>\n",
       "      <th>stop_daytime</th>\n",
       "      <th>driver_gender</th>\n",
       "      <th>driver_age</th>\n",
       "      <th>driver_race</th>\n",
       "      <th>violation_raw</th>\n",
       "      <th>violation</th>\n",
       "      <th>search_conducted</th>\n",
       "      <th>search_type</th>\n",
       "      <th>stop_outcome</th>\n",
       "      <th>is_arrested</th>\n",
       "      <th>stop_duration</th>\n",
       "      <th>drugs_related_stop</th>\n",
       "    </tr>\n",
       "  </thead>\n",
       "  <tbody>\n",
       "    <tr>\n",
       "      <th>0</th>\n",
       "      <td>2005</td>\n",
       "      <td>1</td>\n",
       "      <td>Night</td>\n",
       "      <td>M</td>\n",
       "      <td>20</td>\n",
       "      <td>White</td>\n",
       "      <td>Speeding</td>\n",
       "      <td>Speeding</td>\n",
       "      <td>False</td>\n",
       "      <td>NaN</td>\n",
       "      <td>Citation</td>\n",
       "      <td>False</td>\n",
       "      <td>0-15 Min</td>\n",
       "      <td>False</td>\n",
       "    </tr>\n",
       "    <tr>\n",
       "      <th>1</th>\n",
       "      <td>2005</td>\n",
       "      <td>8</td>\n",
       "      <td>Morning</td>\n",
       "      <td>M</td>\n",
       "      <td>40</td>\n",
       "      <td>White</td>\n",
       "      <td>Speeding</td>\n",
       "      <td>Speeding</td>\n",
       "      <td>False</td>\n",
       "      <td>NaN</td>\n",
       "      <td>Citation</td>\n",
       "      <td>False</td>\n",
       "      <td>0-15 Min</td>\n",
       "      <td>False</td>\n",
       "    </tr>\n",
       "    <tr>\n",
       "      <th>2</th>\n",
       "      <td>2005</td>\n",
       "      <td>23</td>\n",
       "      <td>Night</td>\n",
       "      <td>M</td>\n",
       "      <td>33</td>\n",
       "      <td>White</td>\n",
       "      <td>Speeding</td>\n",
       "      <td>Speeding</td>\n",
       "      <td>False</td>\n",
       "      <td>NaN</td>\n",
       "      <td>Citation</td>\n",
       "      <td>False</td>\n",
       "      <td>0-15 Min</td>\n",
       "      <td>False</td>\n",
       "    </tr>\n",
       "    <tr>\n",
       "      <th>3</th>\n",
       "      <td>2005</td>\n",
       "      <td>17</td>\n",
       "      <td>Afternoon</td>\n",
       "      <td>M</td>\n",
       "      <td>19</td>\n",
       "      <td>White</td>\n",
       "      <td>Call for Service</td>\n",
       "      <td>Other</td>\n",
       "      <td>False</td>\n",
       "      <td>NaN</td>\n",
       "      <td>Arrest Driver</td>\n",
       "      <td>True</td>\n",
       "      <td>16-30 Min</td>\n",
       "      <td>False</td>\n",
       "    </tr>\n",
       "    <tr>\n",
       "      <th>4</th>\n",
       "      <td>2005</td>\n",
       "      <td>10</td>\n",
       "      <td>Morning</td>\n",
       "      <td>F</td>\n",
       "      <td>21</td>\n",
       "      <td>White</td>\n",
       "      <td>Speeding</td>\n",
       "      <td>Speeding</td>\n",
       "      <td>False</td>\n",
       "      <td>NaN</td>\n",
       "      <td>Citation</td>\n",
       "      <td>False</td>\n",
       "      <td>0-15 Min</td>\n",
       "      <td>False</td>\n",
       "    </tr>\n",
       "  </tbody>\n",
       "</table>\n",
       "</div>"
      ],
      "text/plain": [
       "   stop_year  stop_hour stop_daytime driver_gender  driver_age driver_race  \\\n",
       "0       2005          1        Night             M          20       White   \n",
       "1       2005          8      Morning             M          40       White   \n",
       "2       2005         23        Night             M          33       White   \n",
       "3       2005         17    Afternoon             M          19       White   \n",
       "4       2005         10      Morning             F          21       White   \n",
       "\n",
       "      violation_raw violation  search_conducted search_type   stop_outcome  \\\n",
       "0          Speeding  Speeding             False         NaN       Citation   \n",
       "1          Speeding  Speeding             False         NaN       Citation   \n",
       "2          Speeding  Speeding             False         NaN       Citation   \n",
       "3  Call for Service     Other             False         NaN  Arrest Driver   \n",
       "4          Speeding  Speeding             False         NaN       Citation   \n",
       "\n",
       "  is_arrested stop_duration  drugs_related_stop  \n",
       "0       False      0-15 Min               False  \n",
       "1       False      0-15 Min               False  \n",
       "2       False      0-15 Min               False  \n",
       "3        True     16-30 Min               False  \n",
       "4       False      0-15 Min               False  "
      ]
     },
     "execution_count": 395,
     "metadata": {},
     "output_type": "execute_result"
    }
   ],
   "source": [
    "police.head()"
   ]
  },
  {
   "cell_type": "code",
   "execution_count": 396,
   "id": "bb928e26",
   "metadata": {},
   "outputs": [
    {
     "name": "stdout",
     "output_type": "stream",
     "text": [
      "<class 'pandas.core.frame.DataFrame'>\n",
      "Int64Index: 86113 entries, 0 to 91740\n",
      "Data columns (total 14 columns):\n",
      " #   Column              Non-Null Count  Dtype \n",
      "---  ------              --------------  ----- \n",
      " 0   stop_year           86113 non-null  int64 \n",
      " 1   stop_hour           86113 non-null  int64 \n",
      " 2   stop_daytime        86113 non-null  object\n",
      " 3   driver_gender       86113 non-null  object\n",
      " 4   driver_age          86113 non-null  int64 \n",
      " 5   driver_race         86113 non-null  object\n",
      " 6   violation_raw       86113 non-null  object\n",
      " 7   violation           86113 non-null  object\n",
      " 8   search_conducted    86113 non-null  bool  \n",
      " 9   search_type         3193 non-null   object\n",
      " 10  stop_outcome        86113 non-null  object\n",
      " 11  is_arrested         86113 non-null  object\n",
      " 12  stop_duration       86113 non-null  object\n",
      " 13  drugs_related_stop  86113 non-null  bool  \n",
      "dtypes: bool(2), int64(3), object(9)\n",
      "memory usage: 8.7+ MB\n"
     ]
    }
   ],
   "source": [
    "police.info()"
   ]
  },
  {
   "cell_type": "code",
   "execution_count": 397,
   "id": "bb2d690d",
   "metadata": {},
   "outputs": [],
   "source": [
    "police.insert(\n",
    "    4,\n",
    "    'driver_age_brackets',\n",
    "    '')    "
   ]
  },
  {
   "cell_type": "code",
   "execution_count": 398,
   "id": "1adae9ab",
   "metadata": {},
   "outputs": [],
   "source": [
    "police.loc[(police['driver_age'] >= 15) & (police['driver_age'] <= 19), 'driver_age_brackets'] = '15-19'\n",
    "police.loc[(police['driver_age'] >= 20) & (police['driver_age'] <= 29), 'driver_age_brackets'] = '20-29'\n",
    "police.loc[(police['driver_age'] >= 30) & (police['driver_age'] <= 39), 'driver_age_brackets'] = '30-39'\n",
    "police.loc[(police['driver_age'] >= 40) & (police['driver_age'] <= 49), 'driver_age_brackets'] = '40-49'\n",
    "police.loc[(police['driver_age'] >= 50) & (police['driver_age'] <= 59), 'driver_age_brackets'] = '50-59'\n",
    "police.loc[(police['driver_age'] >= 60) & (police['driver_age'] <= 69), 'driver_age_brackets'] = '60-69'\n",
    "police.loc[(police['driver_age'] >= 70) & (police['driver_age'] <= 79), 'driver_age_brackets'] = '70-79'\n",
    "police.loc[(police['driver_age'] >= 80) & (police['driver_age'] <= 89), 'driver_age_brackets'] = '80-89'\n",
    "police.loc[(police['driver_age'] >= 90) & (police['driver_age'] <= 99), 'driver_age_brackets'] = '90-99'"
   ]
  },
  {
   "cell_type": "code",
   "execution_count": 399,
   "id": "0fc90076",
   "metadata": {},
   "outputs": [
    {
     "data": {
      "text/html": [
       "<div>\n",
       "<style scoped>\n",
       "    .dataframe tbody tr th:only-of-type {\n",
       "        vertical-align: middle;\n",
       "    }\n",
       "\n",
       "    .dataframe tbody tr th {\n",
       "        vertical-align: top;\n",
       "    }\n",
       "\n",
       "    .dataframe thead th {\n",
       "        text-align: right;\n",
       "    }\n",
       "</style>\n",
       "<table border=\"1\" class=\"dataframe\">\n",
       "  <thead>\n",
       "    <tr style=\"text-align: right;\">\n",
       "      <th></th>\n",
       "      <th>stop_year</th>\n",
       "      <th>stop_hour</th>\n",
       "      <th>stop_daytime</th>\n",
       "      <th>driver_gender</th>\n",
       "      <th>driver_age_brackets</th>\n",
       "      <th>driver_age</th>\n",
       "      <th>driver_race</th>\n",
       "      <th>violation_raw</th>\n",
       "      <th>violation</th>\n",
       "      <th>search_conducted</th>\n",
       "      <th>search_type</th>\n",
       "      <th>stop_outcome</th>\n",
       "      <th>is_arrested</th>\n",
       "      <th>stop_duration</th>\n",
       "      <th>drugs_related_stop</th>\n",
       "    </tr>\n",
       "  </thead>\n",
       "  <tbody>\n",
       "    <tr>\n",
       "      <th>0</th>\n",
       "      <td>2005</td>\n",
       "      <td>1</td>\n",
       "      <td>Night</td>\n",
       "      <td>M</td>\n",
       "      <td>20-29</td>\n",
       "      <td>20</td>\n",
       "      <td>White</td>\n",
       "      <td>Speeding</td>\n",
       "      <td>Speeding</td>\n",
       "      <td>False</td>\n",
       "      <td>NaN</td>\n",
       "      <td>Citation</td>\n",
       "      <td>False</td>\n",
       "      <td>0-15 Min</td>\n",
       "      <td>False</td>\n",
       "    </tr>\n",
       "    <tr>\n",
       "      <th>1</th>\n",
       "      <td>2005</td>\n",
       "      <td>8</td>\n",
       "      <td>Morning</td>\n",
       "      <td>M</td>\n",
       "      <td>40-49</td>\n",
       "      <td>40</td>\n",
       "      <td>White</td>\n",
       "      <td>Speeding</td>\n",
       "      <td>Speeding</td>\n",
       "      <td>False</td>\n",
       "      <td>NaN</td>\n",
       "      <td>Citation</td>\n",
       "      <td>False</td>\n",
       "      <td>0-15 Min</td>\n",
       "      <td>False</td>\n",
       "    </tr>\n",
       "    <tr>\n",
       "      <th>2</th>\n",
       "      <td>2005</td>\n",
       "      <td>23</td>\n",
       "      <td>Night</td>\n",
       "      <td>M</td>\n",
       "      <td>30-39</td>\n",
       "      <td>33</td>\n",
       "      <td>White</td>\n",
       "      <td>Speeding</td>\n",
       "      <td>Speeding</td>\n",
       "      <td>False</td>\n",
       "      <td>NaN</td>\n",
       "      <td>Citation</td>\n",
       "      <td>False</td>\n",
       "      <td>0-15 Min</td>\n",
       "      <td>False</td>\n",
       "    </tr>\n",
       "    <tr>\n",
       "      <th>3</th>\n",
       "      <td>2005</td>\n",
       "      <td>17</td>\n",
       "      <td>Afternoon</td>\n",
       "      <td>M</td>\n",
       "      <td>15-19</td>\n",
       "      <td>19</td>\n",
       "      <td>White</td>\n",
       "      <td>Call for Service</td>\n",
       "      <td>Other</td>\n",
       "      <td>False</td>\n",
       "      <td>NaN</td>\n",
       "      <td>Arrest Driver</td>\n",
       "      <td>True</td>\n",
       "      <td>16-30 Min</td>\n",
       "      <td>False</td>\n",
       "    </tr>\n",
       "    <tr>\n",
       "      <th>4</th>\n",
       "      <td>2005</td>\n",
       "      <td>10</td>\n",
       "      <td>Morning</td>\n",
       "      <td>F</td>\n",
       "      <td>20-29</td>\n",
       "      <td>21</td>\n",
       "      <td>White</td>\n",
       "      <td>Speeding</td>\n",
       "      <td>Speeding</td>\n",
       "      <td>False</td>\n",
       "      <td>NaN</td>\n",
       "      <td>Citation</td>\n",
       "      <td>False</td>\n",
       "      <td>0-15 Min</td>\n",
       "      <td>False</td>\n",
       "    </tr>\n",
       "  </tbody>\n",
       "</table>\n",
       "</div>"
      ],
      "text/plain": [
       "   stop_year  stop_hour stop_daytime driver_gender driver_age_brackets  \\\n",
       "0       2005          1        Night             M               20-29   \n",
       "1       2005          8      Morning             M               40-49   \n",
       "2       2005         23        Night             M               30-39   \n",
       "3       2005         17    Afternoon             M               15-19   \n",
       "4       2005         10      Morning             F               20-29   \n",
       "\n",
       "   driver_age driver_race     violation_raw violation  search_conducted  \\\n",
       "0          20       White          Speeding  Speeding             False   \n",
       "1          40       White          Speeding  Speeding             False   \n",
       "2          33       White          Speeding  Speeding             False   \n",
       "3          19       White  Call for Service     Other             False   \n",
       "4          21       White          Speeding  Speeding             False   \n",
       "\n",
       "  search_type   stop_outcome is_arrested stop_duration  drugs_related_stop  \n",
       "0         NaN       Citation       False      0-15 Min               False  \n",
       "1         NaN       Citation       False      0-15 Min               False  \n",
       "2         NaN       Citation       False      0-15 Min               False  \n",
       "3         NaN  Arrest Driver        True     16-30 Min               False  \n",
       "4         NaN       Citation       False      0-15 Min               False  "
      ]
     },
     "execution_count": 399,
     "metadata": {},
     "output_type": "execute_result"
    }
   ],
   "source": [
    "police.head()"
   ]
  },
  {
   "cell_type": "code",
   "execution_count": 400,
   "id": "4e077067",
   "metadata": {},
   "outputs": [
    {
     "data": {
      "text/html": [
       "<div>\n",
       "<style scoped>\n",
       "    .dataframe tbody tr th:only-of-type {\n",
       "        vertical-align: middle;\n",
       "    }\n",
       "\n",
       "    .dataframe tbody tr th {\n",
       "        vertical-align: top;\n",
       "    }\n",
       "\n",
       "    .dataframe thead th {\n",
       "        text-align: right;\n",
       "    }\n",
       "</style>\n",
       "<table border=\"1\" class=\"dataframe\">\n",
       "  <thead>\n",
       "    <tr style=\"text-align: right;\">\n",
       "      <th></th>\n",
       "      <th>stop_year</th>\n",
       "      <th>stop_hour</th>\n",
       "      <th>stop_daytime</th>\n",
       "      <th>driver_gender</th>\n",
       "      <th>driver_age_brackets</th>\n",
       "      <th>driver_age</th>\n",
       "      <th>driver_race</th>\n",
       "      <th>violation_raw</th>\n",
       "      <th>violation</th>\n",
       "      <th>search_conducted</th>\n",
       "      <th>search_type</th>\n",
       "      <th>stop_outcome</th>\n",
       "      <th>is_arrested</th>\n",
       "      <th>stop_duration</th>\n",
       "      <th>drugs_related_stop</th>\n",
       "    </tr>\n",
       "  </thead>\n",
       "  <tbody>\n",
       "    <tr>\n",
       "      <th>0</th>\n",
       "      <td>2005</td>\n",
       "      <td>1</td>\n",
       "      <td>Night</td>\n",
       "      <td>Male</td>\n",
       "      <td>20-29</td>\n",
       "      <td>20</td>\n",
       "      <td>White</td>\n",
       "      <td>Speeding</td>\n",
       "      <td>Speeding</td>\n",
       "      <td>False</td>\n",
       "      <td>NaN</td>\n",
       "      <td>Citation</td>\n",
       "      <td>False</td>\n",
       "      <td>0-15 Min</td>\n",
       "      <td>False</td>\n",
       "    </tr>\n",
       "    <tr>\n",
       "      <th>1</th>\n",
       "      <td>2005</td>\n",
       "      <td>8</td>\n",
       "      <td>Morning</td>\n",
       "      <td>Male</td>\n",
       "      <td>40-49</td>\n",
       "      <td>40</td>\n",
       "      <td>White</td>\n",
       "      <td>Speeding</td>\n",
       "      <td>Speeding</td>\n",
       "      <td>False</td>\n",
       "      <td>NaN</td>\n",
       "      <td>Citation</td>\n",
       "      <td>False</td>\n",
       "      <td>0-15 Min</td>\n",
       "      <td>False</td>\n",
       "    </tr>\n",
       "    <tr>\n",
       "      <th>2</th>\n",
       "      <td>2005</td>\n",
       "      <td>23</td>\n",
       "      <td>Night</td>\n",
       "      <td>Male</td>\n",
       "      <td>30-39</td>\n",
       "      <td>33</td>\n",
       "      <td>White</td>\n",
       "      <td>Speeding</td>\n",
       "      <td>Speeding</td>\n",
       "      <td>False</td>\n",
       "      <td>NaN</td>\n",
       "      <td>Citation</td>\n",
       "      <td>False</td>\n",
       "      <td>0-15 Min</td>\n",
       "      <td>False</td>\n",
       "    </tr>\n",
       "    <tr>\n",
       "      <th>3</th>\n",
       "      <td>2005</td>\n",
       "      <td>17</td>\n",
       "      <td>Afternoon</td>\n",
       "      <td>Male</td>\n",
       "      <td>15-19</td>\n",
       "      <td>19</td>\n",
       "      <td>White</td>\n",
       "      <td>Call for Service</td>\n",
       "      <td>Other</td>\n",
       "      <td>False</td>\n",
       "      <td>NaN</td>\n",
       "      <td>Arrest Driver</td>\n",
       "      <td>True</td>\n",
       "      <td>16-30 Min</td>\n",
       "      <td>False</td>\n",
       "    </tr>\n",
       "    <tr>\n",
       "      <th>4</th>\n",
       "      <td>2005</td>\n",
       "      <td>10</td>\n",
       "      <td>Morning</td>\n",
       "      <td>F</td>\n",
       "      <td>20-29</td>\n",
       "      <td>21</td>\n",
       "      <td>White</td>\n",
       "      <td>Speeding</td>\n",
       "      <td>Speeding</td>\n",
       "      <td>False</td>\n",
       "      <td>NaN</td>\n",
       "      <td>Citation</td>\n",
       "      <td>False</td>\n",
       "      <td>0-15 Min</td>\n",
       "      <td>False</td>\n",
       "    </tr>\n",
       "  </tbody>\n",
       "</table>\n",
       "</div>"
      ],
      "text/plain": [
       "   stop_year  stop_hour stop_daytime driver_gender driver_age_brackets  \\\n",
       "0       2005          1        Night          Male               20-29   \n",
       "1       2005          8      Morning          Male               40-49   \n",
       "2       2005         23        Night          Male               30-39   \n",
       "3       2005         17    Afternoon          Male               15-19   \n",
       "4       2005         10      Morning             F               20-29   \n",
       "\n",
       "   driver_age driver_race     violation_raw violation  search_conducted  \\\n",
       "0          20       White          Speeding  Speeding             False   \n",
       "1          40       White          Speeding  Speeding             False   \n",
       "2          33       White          Speeding  Speeding             False   \n",
       "3          19       White  Call for Service     Other             False   \n",
       "4          21       White          Speeding  Speeding             False   \n",
       "\n",
       "  search_type   stop_outcome is_arrested stop_duration  drugs_related_stop  \n",
       "0         NaN       Citation       False      0-15 Min               False  \n",
       "1         NaN       Citation       False      0-15 Min               False  \n",
       "2         NaN       Citation       False      0-15 Min               False  \n",
       "3         NaN  Arrest Driver        True     16-30 Min               False  \n",
       "4         NaN       Citation       False      0-15 Min               False  "
      ]
     },
     "execution_count": 400,
     "metadata": {},
     "output_type": "execute_result"
    }
   ],
   "source": [
    "gender_mask = police['driver_gender'] == 'M'\n",
    "police.loc[gender_mask, 'driver_gender'] = 'Male'\n",
    "police.head()"
   ]
  },
  {
   "cell_type": "code",
   "execution_count": 401,
   "id": "22327380",
   "metadata": {},
   "outputs": [
    {
     "data": {
      "text/html": [
       "<div>\n",
       "<style scoped>\n",
       "    .dataframe tbody tr th:only-of-type {\n",
       "        vertical-align: middle;\n",
       "    }\n",
       "\n",
       "    .dataframe tbody tr th {\n",
       "        vertical-align: top;\n",
       "    }\n",
       "\n",
       "    .dataframe thead th {\n",
       "        text-align: right;\n",
       "    }\n",
       "</style>\n",
       "<table border=\"1\" class=\"dataframe\">\n",
       "  <thead>\n",
       "    <tr style=\"text-align: right;\">\n",
       "      <th></th>\n",
       "      <th>stop_year</th>\n",
       "      <th>stop_hour</th>\n",
       "      <th>stop_daytime</th>\n",
       "      <th>driver_gender</th>\n",
       "      <th>driver_age_brackets</th>\n",
       "      <th>driver_age</th>\n",
       "      <th>driver_race</th>\n",
       "      <th>violation_raw</th>\n",
       "      <th>violation</th>\n",
       "      <th>search_conducted</th>\n",
       "      <th>search_type</th>\n",
       "      <th>stop_outcome</th>\n",
       "      <th>is_arrested</th>\n",
       "      <th>stop_duration</th>\n",
       "      <th>drugs_related_stop</th>\n",
       "    </tr>\n",
       "  </thead>\n",
       "  <tbody>\n",
       "    <tr>\n",
       "      <th>0</th>\n",
       "      <td>2005</td>\n",
       "      <td>1</td>\n",
       "      <td>Night</td>\n",
       "      <td>Male</td>\n",
       "      <td>20-29</td>\n",
       "      <td>20</td>\n",
       "      <td>White</td>\n",
       "      <td>Speeding</td>\n",
       "      <td>Speeding</td>\n",
       "      <td>False</td>\n",
       "      <td>NaN</td>\n",
       "      <td>Citation</td>\n",
       "      <td>False</td>\n",
       "      <td>0-15 Min</td>\n",
       "      <td>False</td>\n",
       "    </tr>\n",
       "    <tr>\n",
       "      <th>1</th>\n",
       "      <td>2005</td>\n",
       "      <td>8</td>\n",
       "      <td>Morning</td>\n",
       "      <td>Male</td>\n",
       "      <td>40-49</td>\n",
       "      <td>40</td>\n",
       "      <td>White</td>\n",
       "      <td>Speeding</td>\n",
       "      <td>Speeding</td>\n",
       "      <td>False</td>\n",
       "      <td>NaN</td>\n",
       "      <td>Citation</td>\n",
       "      <td>False</td>\n",
       "      <td>0-15 Min</td>\n",
       "      <td>False</td>\n",
       "    </tr>\n",
       "    <tr>\n",
       "      <th>2</th>\n",
       "      <td>2005</td>\n",
       "      <td>23</td>\n",
       "      <td>Night</td>\n",
       "      <td>Male</td>\n",
       "      <td>30-39</td>\n",
       "      <td>33</td>\n",
       "      <td>White</td>\n",
       "      <td>Speeding</td>\n",
       "      <td>Speeding</td>\n",
       "      <td>False</td>\n",
       "      <td>NaN</td>\n",
       "      <td>Citation</td>\n",
       "      <td>False</td>\n",
       "      <td>0-15 Min</td>\n",
       "      <td>False</td>\n",
       "    </tr>\n",
       "    <tr>\n",
       "      <th>3</th>\n",
       "      <td>2005</td>\n",
       "      <td>17</td>\n",
       "      <td>Afternoon</td>\n",
       "      <td>Male</td>\n",
       "      <td>15-19</td>\n",
       "      <td>19</td>\n",
       "      <td>White</td>\n",
       "      <td>Call for Service</td>\n",
       "      <td>Other</td>\n",
       "      <td>False</td>\n",
       "      <td>NaN</td>\n",
       "      <td>Arrest Driver</td>\n",
       "      <td>True</td>\n",
       "      <td>16-30 Min</td>\n",
       "      <td>False</td>\n",
       "    </tr>\n",
       "    <tr>\n",
       "      <th>4</th>\n",
       "      <td>2005</td>\n",
       "      <td>10</td>\n",
       "      <td>Morning</td>\n",
       "      <td>Female</td>\n",
       "      <td>20-29</td>\n",
       "      <td>21</td>\n",
       "      <td>White</td>\n",
       "      <td>Speeding</td>\n",
       "      <td>Speeding</td>\n",
       "      <td>False</td>\n",
       "      <td>NaN</td>\n",
       "      <td>Citation</td>\n",
       "      <td>False</td>\n",
       "      <td>0-15 Min</td>\n",
       "      <td>False</td>\n",
       "    </tr>\n",
       "  </tbody>\n",
       "</table>\n",
       "</div>"
      ],
      "text/plain": [
       "   stop_year  stop_hour stop_daytime driver_gender driver_age_brackets  \\\n",
       "0       2005          1        Night          Male               20-29   \n",
       "1       2005          8      Morning          Male               40-49   \n",
       "2       2005         23        Night          Male               30-39   \n",
       "3       2005         17    Afternoon          Male               15-19   \n",
       "4       2005         10      Morning        Female               20-29   \n",
       "\n",
       "   driver_age driver_race     violation_raw violation  search_conducted  \\\n",
       "0          20       White          Speeding  Speeding             False   \n",
       "1          40       White          Speeding  Speeding             False   \n",
       "2          33       White          Speeding  Speeding             False   \n",
       "3          19       White  Call for Service     Other             False   \n",
       "4          21       White          Speeding  Speeding             False   \n",
       "\n",
       "  search_type   stop_outcome is_arrested stop_duration  drugs_related_stop  \n",
       "0         NaN       Citation       False      0-15 Min               False  \n",
       "1         NaN       Citation       False      0-15 Min               False  \n",
       "2         NaN       Citation       False      0-15 Min               False  \n",
       "3         NaN  Arrest Driver        True     16-30 Min               False  \n",
       "4         NaN       Citation       False      0-15 Min               False  "
      ]
     },
     "execution_count": 401,
     "metadata": {},
     "output_type": "execute_result"
    }
   ],
   "source": [
    "gender_mask = police['driver_gender'] == 'F'\n",
    "police.loc[gender_mask, 'driver_gender'] = 'Female'\n",
    "police.head()"
   ]
  },
  {
   "cell_type": "code",
   "execution_count": 402,
   "id": "526439c7",
   "metadata": {},
   "outputs": [
    {
     "data": {
      "text/plain": [
       "count    86113.000000\n",
       "mean      2010.280167\n",
       "std          3.046308\n",
       "min       2005.000000\n",
       "25%       2008.000000\n",
       "50%       2010.000000\n",
       "75%       2013.000000\n",
       "max       2015.000000\n",
       "Name: stop_year, dtype: float64"
      ]
     },
     "execution_count": 402,
     "metadata": {},
     "output_type": "execute_result"
    }
   ],
   "source": [
    "police['stop_year'].describe()"
   ]
  },
  {
   "cell_type": "code",
   "execution_count": 403,
   "id": "678cc4d8",
   "metadata": {},
   "outputs": [
    {
     "data": {
      "text/plain": [
       "count    86113.000000\n",
       "mean        11.677540\n",
       "std          6.466846\n",
       "min          0.000000\n",
       "25%          8.000000\n",
       "50%         11.000000\n",
       "75%         16.000000\n",
       "max         23.000000\n",
       "Name: stop_hour, dtype: float64"
      ]
     },
     "execution_count": 403,
     "metadata": {},
     "output_type": "execute_result"
    }
   ],
   "source": [
    "police['stop_hour'].describe()"
   ]
  },
  {
   "cell_type": "code",
   "execution_count": 404,
   "id": "4324800a",
   "metadata": {},
   "outputs": [
    {
     "data": {
      "text/plain": [
       "White       61947\n",
       "Black       12197\n",
       "Hispanic     9477\n",
       "Asian        2253\n",
       "Other         239\n",
       "Name: driver_race, dtype: int64"
      ]
     },
     "execution_count": 404,
     "metadata": {},
     "output_type": "execute_result"
    }
   ],
   "source": [
    "police['driver_race'].value_counts()"
   ]
  },
  {
   "cell_type": "code",
   "execution_count": 405,
   "id": "03e53a86",
   "metadata": {},
   "outputs": [],
   "source": [
    "police = police.drop(\n",
    "    labels='violation_raw',\n",
    "    axis=1)"
   ]
  },
  {
   "cell_type": "code",
   "execution_count": 406,
   "id": "d71b6e31",
   "metadata": {},
   "outputs": [
    {
     "data": {
      "text/plain": [
       "Speeding               48359\n",
       "Moving violation       16164\n",
       "Equipment              11007\n",
       "Other                   4204\n",
       "Registration/plates     3427\n",
       "Seat belt               2952\n",
       "Name: violation, dtype: int64"
      ]
     },
     "execution_count": 406,
     "metadata": {},
     "output_type": "execute_result"
    }
   ],
   "source": [
    "police['violation'].value_counts()"
   ]
  },
  {
   "cell_type": "code",
   "execution_count": 407,
   "id": "dd0ab068",
   "metadata": {},
   "outputs": [
    {
     "data": {
      "text/plain": [
       "False    82920\n",
       "True      3193\n",
       "Name: search_conducted, dtype: int64"
      ]
     },
     "execution_count": 407,
     "metadata": {},
     "output_type": "execute_result"
    }
   ],
   "source": [
    "police['search_conducted'].value_counts()"
   ]
  },
  {
   "cell_type": "code",
   "execution_count": 408,
   "id": "f498bc17",
   "metadata": {},
   "outputs": [
    {
     "data": {
      "text/html": [
       "<div>\n",
       "<style scoped>\n",
       "    .dataframe tbody tr th:only-of-type {\n",
       "        vertical-align: middle;\n",
       "    }\n",
       "\n",
       "    .dataframe tbody tr th {\n",
       "        vertical-align: top;\n",
       "    }\n",
       "\n",
       "    .dataframe thead th {\n",
       "        text-align: right;\n",
       "    }\n",
       "</style>\n",
       "<table border=\"1\" class=\"dataframe\">\n",
       "  <thead>\n",
       "    <tr style=\"text-align: right;\">\n",
       "      <th></th>\n",
       "      <th>stop_year</th>\n",
       "      <th>stop_hour</th>\n",
       "      <th>stop_daytime</th>\n",
       "      <th>driver_gender</th>\n",
       "      <th>driver_age_brackets</th>\n",
       "      <th>driver_age</th>\n",
       "      <th>driver_race</th>\n",
       "      <th>violation</th>\n",
       "      <th>search_conducted</th>\n",
       "      <th>stop_outcome</th>\n",
       "      <th>is_arrested</th>\n",
       "      <th>stop_duration</th>\n",
       "      <th>drugs_related_stop</th>\n",
       "    </tr>\n",
       "  </thead>\n",
       "  <tbody>\n",
       "    <tr>\n",
       "      <th>0</th>\n",
       "      <td>2005</td>\n",
       "      <td>1</td>\n",
       "      <td>Night</td>\n",
       "      <td>Male</td>\n",
       "      <td>20-29</td>\n",
       "      <td>20</td>\n",
       "      <td>White</td>\n",
       "      <td>Speeding</td>\n",
       "      <td>False</td>\n",
       "      <td>Citation</td>\n",
       "      <td>False</td>\n",
       "      <td>0-15 Min</td>\n",
       "      <td>False</td>\n",
       "    </tr>\n",
       "    <tr>\n",
       "      <th>1</th>\n",
       "      <td>2005</td>\n",
       "      <td>8</td>\n",
       "      <td>Morning</td>\n",
       "      <td>Male</td>\n",
       "      <td>40-49</td>\n",
       "      <td>40</td>\n",
       "      <td>White</td>\n",
       "      <td>Speeding</td>\n",
       "      <td>False</td>\n",
       "      <td>Citation</td>\n",
       "      <td>False</td>\n",
       "      <td>0-15 Min</td>\n",
       "      <td>False</td>\n",
       "    </tr>\n",
       "    <tr>\n",
       "      <th>2</th>\n",
       "      <td>2005</td>\n",
       "      <td>23</td>\n",
       "      <td>Night</td>\n",
       "      <td>Male</td>\n",
       "      <td>30-39</td>\n",
       "      <td>33</td>\n",
       "      <td>White</td>\n",
       "      <td>Speeding</td>\n",
       "      <td>False</td>\n",
       "      <td>Citation</td>\n",
       "      <td>False</td>\n",
       "      <td>0-15 Min</td>\n",
       "      <td>False</td>\n",
       "    </tr>\n",
       "    <tr>\n",
       "      <th>3</th>\n",
       "      <td>2005</td>\n",
       "      <td>17</td>\n",
       "      <td>Afternoon</td>\n",
       "      <td>Male</td>\n",
       "      <td>15-19</td>\n",
       "      <td>19</td>\n",
       "      <td>White</td>\n",
       "      <td>Other</td>\n",
       "      <td>False</td>\n",
       "      <td>Arrest Driver</td>\n",
       "      <td>True</td>\n",
       "      <td>16-30 Min</td>\n",
       "      <td>False</td>\n",
       "    </tr>\n",
       "    <tr>\n",
       "      <th>4</th>\n",
       "      <td>2005</td>\n",
       "      <td>10</td>\n",
       "      <td>Morning</td>\n",
       "      <td>Female</td>\n",
       "      <td>20-29</td>\n",
       "      <td>21</td>\n",
       "      <td>White</td>\n",
       "      <td>Speeding</td>\n",
       "      <td>False</td>\n",
       "      <td>Citation</td>\n",
       "      <td>False</td>\n",
       "      <td>0-15 Min</td>\n",
       "      <td>False</td>\n",
       "    </tr>\n",
       "  </tbody>\n",
       "</table>\n",
       "</div>"
      ],
      "text/plain": [
       "   stop_year  stop_hour stop_daytime driver_gender driver_age_brackets  \\\n",
       "0       2005          1        Night          Male               20-29   \n",
       "1       2005          8      Morning          Male               40-49   \n",
       "2       2005         23        Night          Male               30-39   \n",
       "3       2005         17    Afternoon          Male               15-19   \n",
       "4       2005         10      Morning        Female               20-29   \n",
       "\n",
       "   driver_age driver_race violation  search_conducted   stop_outcome  \\\n",
       "0          20       White  Speeding             False       Citation   \n",
       "1          40       White  Speeding             False       Citation   \n",
       "2          33       White  Speeding             False       Citation   \n",
       "3          19       White     Other             False  Arrest Driver   \n",
       "4          21       White  Speeding             False       Citation   \n",
       "\n",
       "  is_arrested stop_duration  drugs_related_stop  \n",
       "0       False      0-15 Min               False  \n",
       "1       False      0-15 Min               False  \n",
       "2       False      0-15 Min               False  \n",
       "3        True     16-30 Min               False  \n",
       "4       False      0-15 Min               False  "
      ]
     },
     "execution_count": 408,
     "metadata": {},
     "output_type": "execute_result"
    }
   ],
   "source": [
    "police = police.drop(\n",
    "    labels='search_type',\n",
    "    axis=1)\n",
    "police.head()"
   ]
  },
  {
   "cell_type": "code",
   "execution_count": 409,
   "id": "f331f94d",
   "metadata": {},
   "outputs": [
    {
     "data": {
      "text/plain": [
       "Citation            76821\n",
       "Warning              5214\n",
       "Arrest Driver        2567\n",
       "N/D                   590\n",
       "No Action             563\n",
       "Arrest Passenger      358\n",
       "Name: stop_outcome, dtype: int64"
      ]
     },
     "execution_count": 409,
     "metadata": {},
     "output_type": "execute_result"
    }
   ],
   "source": [
    "police['stop_outcome'].value_counts()"
   ]
  },
  {
   "cell_type": "code",
   "execution_count": 410,
   "id": "6088a7b0",
   "metadata": {},
   "outputs": [
    {
     "data": {
      "text/plain": [
       "Citation            76821\n",
       "Warning              5214\n",
       "Arrest Driver        2567\n",
       "No Action             563\n",
       "Arrest Passenger      358\n",
       "Name: stop_outcome, dtype: int64"
      ]
     },
     "execution_count": 410,
     "metadata": {},
     "output_type": "execute_result"
    }
   ],
   "source": [
    "police = police[police['stop_outcome'] != 'N/D']\n",
    "police['stop_outcome'].value_counts()"
   ]
  },
  {
   "cell_type": "code",
   "execution_count": 411,
   "id": "47cb3007",
   "metadata": {},
   "outputs": [
    {
     "data": {
      "text/plain": [
       "False    82598\n",
       "True      2925\n",
       "Name: is_arrested, dtype: int64"
      ]
     },
     "execution_count": 411,
     "metadata": {},
     "output_type": "execute_result"
    }
   ],
   "source": [
    "police['is_arrested'].value_counts()"
   ]
  },
  {
   "cell_type": "code",
   "execution_count": 412,
   "id": "eb0e1144",
   "metadata": {},
   "outputs": [
    {
     "data": {
      "text/plain": [
       "0-15 Min     68815\n",
       "16-30 Min    13503\n",
       "30+ Min       3203\n",
       "2                1\n",
       "1                1\n",
       "Name: stop_duration, dtype: int64"
      ]
     },
     "execution_count": 412,
     "metadata": {},
     "output_type": "execute_result"
    }
   ],
   "source": [
    "police['stop_duration'].value_counts()"
   ]
  },
  {
   "cell_type": "code",
   "execution_count": 413,
   "id": "101f0b69",
   "metadata": {},
   "outputs": [
    {
     "data": {
      "text/plain": [
       "0-15 Min     68815\n",
       "16-30 Min    13503\n",
       "30+ Min       3203\n",
       "Name: stop_duration, dtype: int64"
      ]
     },
     "execution_count": 413,
     "metadata": {},
     "output_type": "execute_result"
    }
   ],
   "source": [
    "police = police[police['stop_duration'] != '2']\n",
    "police = police[police['stop_duration'] != '1']\n",
    "police['stop_duration'].value_counts()"
   ]
  },
  {
   "cell_type": "code",
   "execution_count": 414,
   "id": "68bf01a7",
   "metadata": {},
   "outputs": [
    {
     "data": {
      "text/plain": [
       "False    84714\n",
       "True       807\n",
       "Name: drugs_related_stop, dtype: int64"
      ]
     },
     "execution_count": 414,
     "metadata": {},
     "output_type": "execute_result"
    }
   ],
   "source": [
    "police['drugs_related_stop'].value_counts()"
   ]
  },
  {
   "cell_type": "code",
   "execution_count": 415,
   "id": "202ff5a7",
   "metadata": {},
   "outputs": [
    {
     "name": "stdout",
     "output_type": "stream",
     "text": [
      "<class 'pandas.core.frame.DataFrame'>\n",
      "Int64Index: 85521 entries, 0 to 91740\n",
      "Data columns (total 13 columns):\n",
      " #   Column               Non-Null Count  Dtype \n",
      "---  ------               --------------  ----- \n",
      " 0   stop_year            85521 non-null  int64 \n",
      " 1   stop_hour            85521 non-null  int64 \n",
      " 2   stop_daytime         85521 non-null  object\n",
      " 3   driver_gender        85521 non-null  object\n",
      " 4   driver_age_brackets  85521 non-null  object\n",
      " 5   driver_age           85521 non-null  int64 \n",
      " 6   driver_race          85521 non-null  object\n",
      " 7   violation            85521 non-null  object\n",
      " 8   search_conducted     85521 non-null  bool  \n",
      " 9   stop_outcome         85521 non-null  object\n",
      " 10  is_arrested          85521 non-null  object\n",
      " 11  stop_duration        85521 non-null  object\n",
      " 12  drugs_related_stop   85521 non-null  bool  \n",
      "dtypes: bool(2), int64(3), object(8)\n",
      "memory usage: 8.0+ MB\n"
     ]
    }
   ],
   "source": [
    "police.info()"
   ]
  },
  {
   "cell_type": "code",
   "execution_count": 416,
   "id": "d0d0dc1d",
   "metadata": {
    "scrolled": true
   },
   "outputs": [
    {
     "data": {
      "text/html": [
       "<div>\n",
       "<style scoped>\n",
       "    .dataframe tbody tr th:only-of-type {\n",
       "        vertical-align: middle;\n",
       "    }\n",
       "\n",
       "    .dataframe tbody tr th {\n",
       "        vertical-align: top;\n",
       "    }\n",
       "\n",
       "    .dataframe thead th {\n",
       "        text-align: right;\n",
       "    }\n",
       "</style>\n",
       "<table border=\"1\" class=\"dataframe\">\n",
       "  <thead>\n",
       "    <tr style=\"text-align: right;\">\n",
       "      <th></th>\n",
       "      <th>stop_year</th>\n",
       "      <th>stop_hour</th>\n",
       "      <th>stop_daytime</th>\n",
       "      <th>driver_gender</th>\n",
       "      <th>driver_age_brackets</th>\n",
       "      <th>driver_age</th>\n",
       "      <th>driver_race</th>\n",
       "      <th>violation</th>\n",
       "      <th>search_conducted</th>\n",
       "      <th>stop_outcome</th>\n",
       "      <th>is_arrested</th>\n",
       "      <th>stop_duration</th>\n",
       "      <th>drugs_related_stop</th>\n",
       "    </tr>\n",
       "  </thead>\n",
       "  <tbody>\n",
       "    <tr>\n",
       "      <th>0</th>\n",
       "      <td>2005</td>\n",
       "      <td>1</td>\n",
       "      <td>Night</td>\n",
       "      <td>Male</td>\n",
       "      <td>20-29</td>\n",
       "      <td>20</td>\n",
       "      <td>White</td>\n",
       "      <td>Speeding</td>\n",
       "      <td>False</td>\n",
       "      <td>Citation</td>\n",
       "      <td>False</td>\n",
       "      <td>0-15 Min</td>\n",
       "      <td>False</td>\n",
       "    </tr>\n",
       "    <tr>\n",
       "      <th>1</th>\n",
       "      <td>2005</td>\n",
       "      <td>8</td>\n",
       "      <td>Morning</td>\n",
       "      <td>Male</td>\n",
       "      <td>40-49</td>\n",
       "      <td>40</td>\n",
       "      <td>White</td>\n",
       "      <td>Speeding</td>\n",
       "      <td>False</td>\n",
       "      <td>Citation</td>\n",
       "      <td>False</td>\n",
       "      <td>0-15 Min</td>\n",
       "      <td>False</td>\n",
       "    </tr>\n",
       "    <tr>\n",
       "      <th>2</th>\n",
       "      <td>2005</td>\n",
       "      <td>23</td>\n",
       "      <td>Night</td>\n",
       "      <td>Male</td>\n",
       "      <td>30-39</td>\n",
       "      <td>33</td>\n",
       "      <td>White</td>\n",
       "      <td>Speeding</td>\n",
       "      <td>False</td>\n",
       "      <td>Citation</td>\n",
       "      <td>False</td>\n",
       "      <td>0-15 Min</td>\n",
       "      <td>False</td>\n",
       "    </tr>\n",
       "    <tr>\n",
       "      <th>3</th>\n",
       "      <td>2005</td>\n",
       "      <td>17</td>\n",
       "      <td>Afternoon</td>\n",
       "      <td>Male</td>\n",
       "      <td>15-19</td>\n",
       "      <td>19</td>\n",
       "      <td>White</td>\n",
       "      <td>Other</td>\n",
       "      <td>False</td>\n",
       "      <td>Arrest Driver</td>\n",
       "      <td>True</td>\n",
       "      <td>16-30 Min</td>\n",
       "      <td>False</td>\n",
       "    </tr>\n",
       "    <tr>\n",
       "      <th>4</th>\n",
       "      <td>2005</td>\n",
       "      <td>10</td>\n",
       "      <td>Morning</td>\n",
       "      <td>Female</td>\n",
       "      <td>20-29</td>\n",
       "      <td>21</td>\n",
       "      <td>White</td>\n",
       "      <td>Speeding</td>\n",
       "      <td>False</td>\n",
       "      <td>Citation</td>\n",
       "      <td>False</td>\n",
       "      <td>0-15 Min</td>\n",
       "      <td>False</td>\n",
       "    </tr>\n",
       "  </tbody>\n",
       "</table>\n",
       "</div>"
      ],
      "text/plain": [
       "   stop_year  stop_hour stop_daytime driver_gender driver_age_brackets  \\\n",
       "0       2005          1        Night          Male               20-29   \n",
       "1       2005          8      Morning          Male               40-49   \n",
       "2       2005         23        Night          Male               30-39   \n",
       "3       2005         17    Afternoon          Male               15-19   \n",
       "4       2005         10      Morning        Female               20-29   \n",
       "\n",
       "   driver_age driver_race violation  search_conducted   stop_outcome  \\\n",
       "0          20       White  Speeding             False       Citation   \n",
       "1          40       White  Speeding             False       Citation   \n",
       "2          33       White  Speeding             False       Citation   \n",
       "3          19       White     Other             False  Arrest Driver   \n",
       "4          21       White  Speeding             False       Citation   \n",
       "\n",
       "  is_arrested stop_duration  drugs_related_stop  \n",
       "0       False      0-15 Min               False  \n",
       "1       False      0-15 Min               False  \n",
       "2       False      0-15 Min               False  \n",
       "3        True     16-30 Min               False  \n",
       "4       False      0-15 Min               False  "
      ]
     },
     "execution_count": 416,
     "metadata": {},
     "output_type": "execute_result"
    }
   ],
   "source": [
    "police.head()"
   ]
  },
  {
   "cell_type": "markdown",
   "id": "f691abfc",
   "metadata": {},
   "source": [
    "---"
   ]
  },
  {
   "cell_type": "markdown",
   "id": "089c0ece",
   "metadata": {},
   "source": [
    "# EDA"
   ]
  },
  {
   "cell_type": "code",
   "execution_count": 417,
   "id": "854a01e5",
   "metadata": {},
   "outputs": [
    {
     "data": {
      "text/plain": [
       "count       11.000000\n",
       "mean      7774.636364\n",
       "std       2085.270115\n",
       "min       2449.000000\n",
       "25%       7268.000000\n",
       "50%       8058.000000\n",
       "75%       8811.500000\n",
       "max      10312.000000\n",
       "Name: stop_year, dtype: float64"
      ]
     },
     "execution_count": 417,
     "metadata": {},
     "output_type": "execute_result"
    }
   ],
   "source": [
    "police['stop_year'].value_counts().describe()"
   ]
  },
  {
   "cell_type": "code",
   "execution_count": 418,
   "id": "67b83dca",
   "metadata": {},
   "outputs": [
    {
     "data": {
      "text/plain": [
       "2005     2449\n",
       "2006     9992\n",
       "2007     8845\n",
       "2008     8058\n",
       "2009     7163\n",
       "2010     6881\n",
       "2011     7525\n",
       "2012    10312\n",
       "2013     7373\n",
       "2014     8778\n",
       "2015     8145\n",
       "Name: stop_year, dtype: int64"
      ]
     },
     "execution_count": 418,
     "metadata": {},
     "output_type": "execute_result"
    }
   ],
   "source": [
    "police['stop_year'].value_counts().sort_index()"
   ]
  },
  {
   "cell_type": "markdown",
   "id": "c6c6b662",
   "metadata": {},
   "source": [
    "From 2006 to 2010, there can be seen a downward trend in the number of stops.\n",
    "After 2010, excluding a sharp spike in 2012, the number of stops tends to oscillate between 7k and 9k.\n",
    "2005 is an outlier with a tangibly lower number of stops, probably due to a later date in the year when the data was begun to be collected."
   ]
  },
  {
   "cell_type": "code",
   "execution_count": 419,
   "id": "d87a4e38",
   "metadata": {},
   "outputs": [
    {
     "data": {
      "text/plain": [
       "0     4774\n",
       "1     3963\n",
       "2     2683\n",
       "3     1064\n",
       "4      214\n",
       "5      188\n",
       "6     3172\n",
       "7     4319\n",
       "8     4885\n",
       "9     6425\n",
       "10    6945\n",
       "11    5536\n",
       "12    3363\n",
       "13    4585\n",
       "14    5297\n",
       "15    4540\n",
       "16    3573\n",
       "17    2696\n",
       "18    2029\n",
       "19    2423\n",
       "20    3140\n",
       "21    1341\n",
       "22    3183\n",
       "23    5183\n",
       "Name: stop_hour, dtype: int64"
      ]
     },
     "execution_count": 419,
     "metadata": {},
     "output_type": "execute_result"
    }
   ],
   "source": [
    "police['stop_hour'].value_counts().sort_index()"
   ]
  },
  {
   "cell_type": "markdown",
   "id": "8906b2ca",
   "metadata": {},
   "source": [
    "The most stoppages occur during 9-11 am, which probably is due to people commuting to work.\n",
    "Another major spike can be seen during the time around midnight. I can assume that this originates from people driving back home from relatives, friends, parties, etc., and due to human nature to feel more carefree on the roads during nighttime. The number of stops drops sharply during 4 and 5 am, but the data does not tell whether this discrepancy stems from a low number of drivers on the streets, a low number of policemen patrolling the streets, or completely other reasons."
   ]
  },
  {
   "cell_type": "code",
   "execution_count": 420,
   "id": "35a36643",
   "metadata": {},
   "outputs": [
    {
     "data": {
      "text/plain": [
       "15-19     5551\n",
       "20-29    34725\n",
       "30-39    18850\n",
       "40-49    14033\n",
       "50-59     8806\n",
       "60-69     2908\n",
       "70-79      567\n",
       "80-89       78\n",
       "90-99        3\n",
       "Name: driver_age_brackets, dtype: int64"
      ]
     },
     "execution_count": 420,
     "metadata": {},
     "output_type": "execute_result"
    }
   ],
   "source": [
    "police['driver_age_brackets'].value_counts().sort_index()"
   ]
  },
  {
   "cell_type": "code",
   "execution_count": 421,
   "id": "c556d8ec",
   "metadata": {},
   "outputs": [
    {
     "data": {
      "text/plain": [
       "15-19     6.5\n",
       "20-29    40.6\n",
       "30-39    22.0\n",
       "40-49    16.4\n",
       "50-59    10.3\n",
       "60-69     3.4\n",
       "70-79     0.7\n",
       "80-89     0.1\n",
       "90-99     0.0\n",
       "Name: driver_age_brackets, dtype: float64"
      ]
     },
     "execution_count": 421,
     "metadata": {},
     "output_type": "execute_result"
    }
   ],
   "source": [
    "round(police['driver_age_brackets'].value_counts(normalize=True).sort_index()*100, 1)"
   ]
  },
  {
   "cell_type": "markdown",
   "id": "2e17a74f",
   "metadata": {},
   "source": [
    "The outstanding majority of stopped drivers were aged between 20 and 29 years old, probably due to the higher recklessness and lack of skill in driving of young drivers.\n",
    "As the age brackets increase, the number of stops decreases gradually, which probably connects to greater driving knowledge and a fewer number of people driving aged 60+ overall."
   ]
  },
  {
   "cell_type": "code",
   "execution_count": 422,
   "id": "97a86175",
   "metadata": {},
   "outputs": [
    {
     "data": {
      "text/plain": [
       "Speeding               48310\n",
       "Moving violation       16124\n",
       "Equipment              10549\n",
       "Other                   4178\n",
       "Registration/plates     3408\n",
       "Seat belt               2952\n",
       "Name: violation, dtype: int64"
      ]
     },
     "execution_count": 422,
     "metadata": {},
     "output_type": "execute_result"
    }
   ],
   "source": [
    "police['violation'].value_counts()"
   ]
  },
  {
   "cell_type": "code",
   "execution_count": 423,
   "id": "d7f354f7",
   "metadata": {},
   "outputs": [
    {
     "data": {
      "text/plain": [
       "Speeding               56.5\n",
       "Moving violation       18.9\n",
       "Equipment              12.3\n",
       "Other                   4.9\n",
       "Registration/plates     4.0\n",
       "Seat belt               3.5\n",
       "Name: violation, dtype: float64"
      ]
     },
     "execution_count": 423,
     "metadata": {},
     "output_type": "execute_result"
    }
   ],
   "source": [
    "round(police['violation'].value_counts(normalize=True)*100, 1)"
   ]
  },
  {
   "cell_type": "markdown",
   "id": "85d5c634",
   "metadata": {},
   "source": [
    "Speeding is absolutely by far the most common cause of stopping the drivers, which remarkably makes up more than half of all violations. Less but also notable are stops regarding moving violations and equipment of the vehicle."
   ]
  },
  {
   "cell_type": "code",
   "execution_count": 424,
   "id": "a080f281",
   "metadata": {},
   "outputs": [
    {
     "data": {
      "text/plain": [
       "False    82346\n",
       "True      3175\n",
       "Name: search_conducted, dtype: int64"
      ]
     },
     "execution_count": 424,
     "metadata": {},
     "output_type": "execute_result"
    }
   ],
   "source": [
    "police['search_conducted'].value_counts()"
   ]
  },
  {
   "cell_type": "code",
   "execution_count": 425,
   "id": "97a43dab",
   "metadata": {},
   "outputs": [
    {
     "data": {
      "text/plain": [
       "False    96.3\n",
       "True      3.7\n",
       "Name: search_conducted, dtype: float64"
      ]
     },
     "execution_count": 425,
     "metadata": {},
     "output_type": "execute_result"
    }
   ],
   "source": [
    "round(police['search_conducted'].value_counts(normalize=True)*100, 1)"
   ]
  },
  {
   "cell_type": "code",
   "execution_count": 426,
   "id": "84a97289",
   "metadata": {},
   "outputs": [
    {
     "data": {
      "text/plain": [
       "Speeding               955\n",
       "Moving violation       893\n",
       "Equipment              691\n",
       "Registration/plates    331\n",
       "Other                  209\n",
       "Seat belt               96\n",
       "Name: violation, dtype: int64"
      ]
     },
     "execution_count": 426,
     "metadata": {},
     "output_type": "execute_result"
    }
   ],
   "source": [
    "police[police['search_conducted'] == True].violation.value_counts()"
   ]
  },
  {
   "cell_type": "code",
   "execution_count": 427,
   "id": "5bc5b48f",
   "metadata": {},
   "outputs": [
    {
     "data": {
      "text/plain": [
       "Speeding               30.1\n",
       "Moving violation       28.1\n",
       "Equipment              21.8\n",
       "Registration/plates    10.4\n",
       "Other                   6.6\n",
       "Seat belt               3.0\n",
       "Name: violation, dtype: float64"
      ]
     },
     "execution_count": 427,
     "metadata": {},
     "output_type": "execute_result"
    }
   ],
   "source": [
    "round(police[police['search_conducted'] == True].violation.value_counts(normalize=True)*100, 1)"
   ]
  },
  {
   "cell_type": "markdown",
   "id": "7c34050b",
   "metadata": {},
   "source": [
    "Stops with search conducted make up only a small fraction of all stopns, merely 3.7%.\n",
    "When looking at types of violations that led to stop with the search conducted, we can see that speeding is still the leading reason for stoppage, but moving violations, equipment issues, and registration issues got bumped up significantly."
   ]
  },
  {
   "cell_type": "code",
   "execution_count": 428,
   "id": "bd832cde",
   "metadata": {},
   "outputs": [
    {
     "data": {
      "text/plain": [
       "Citation            76820\n",
       "Warning              5214\n",
       "Arrest Driver        2567\n",
       "No Action             563\n",
       "Arrest Passenger      357\n",
       "Name: stop_outcome, dtype: int64"
      ]
     },
     "execution_count": 428,
     "metadata": {},
     "output_type": "execute_result"
    }
   ],
   "source": [
    "police['stop_outcome'].value_counts()"
   ]
  },
  {
   "cell_type": "code",
   "execution_count": 429,
   "id": "23a82807",
   "metadata": {},
   "outputs": [
    {
     "data": {
      "text/plain": [
       "Citation            89.8\n",
       "Warning              6.1\n",
       "Arrest Driver        3.0\n",
       "No Action            0.7\n",
       "Arrest Passenger     0.4\n",
       "Name: stop_outcome, dtype: float64"
      ]
     },
     "execution_count": 429,
     "metadata": {},
     "output_type": "execute_result"
    }
   ],
   "source": [
    "round(police['stop_outcome'].value_counts(normalize=True)*100, 1)"
   ]
  },
  {
   "cell_type": "markdown",
   "id": "4d85cd63",
   "metadata": {},
   "source": [
    "The overwhelming majority of stops end up with a citation for the driver (~90%).\n",
    "Only less than 7% of stopped drivers can be considered lucky enough to go on without any action taken against them or with a mere warning.\n",
    "3 in 100 people get arrested during a stop.\n",
    "The captivating thing is that there have been over 300 cases where the passenger got to be arrested."
   ]
  },
  {
   "cell_type": "code",
   "execution_count": 430,
   "id": "b6a788ad",
   "metadata": {},
   "outputs": [
    {
     "data": {
      "text/plain": [
       "Citation            1907\n",
       "Arrest Driver        951\n",
       "Arrest Passenger     142\n",
       "Warning              113\n",
       "No Action             62\n",
       "Name: stop_outcome, dtype: int64"
      ]
     },
     "execution_count": 430,
     "metadata": {},
     "output_type": "execute_result"
    }
   ],
   "source": [
    "police[police['search_conducted'] == True].stop_outcome.value_counts()"
   ]
  },
  {
   "cell_type": "code",
   "execution_count": 431,
   "id": "6a102710",
   "metadata": {},
   "outputs": [
    {
     "data": {
      "text/plain": [
       "Citation            60.1\n",
       "Arrest Driver       30.0\n",
       "Arrest Passenger     4.5\n",
       "Warning              3.6\n",
       "No Action            2.0\n",
       "Name: stop_outcome, dtype: float64"
      ]
     },
     "execution_count": 431,
     "metadata": {},
     "output_type": "execute_result"
    }
   ],
   "source": [
    "round(police[police['search_conducted'] == True].stop_outcome.value_counts(normalize=True)*100, 1)"
   ]
  },
  {
   "cell_type": "markdown",
   "id": "2dbfa5a2",
   "metadata": {},
   "source": [
    "Compared to overall statistics, drivers who had their vehicles searched are tenfold as likely to be arrested."
   ]
  },
  {
   "cell_type": "code",
   "execution_count": 432,
   "id": "aaadf8d9",
   "metadata": {},
   "outputs": [
    {
     "data": {
      "text/plain": [
       "Speeding               52.9\n",
       "Moving violation       20.8\n",
       "Equipment              13.1\n",
       "Other                   5.6\n",
       "Registration/plates     3.9\n",
       "Seat belt               3.7\n",
       "Name: violation, dtype: float64"
      ]
     },
     "execution_count": 432,
     "metadata": {},
     "output_type": "execute_result"
    }
   ],
   "source": [
    "round(police[police['driver_gender'] == 'Male'].violation.value_counts(normalize=True)*100, 1)"
   ]
  },
  {
   "cell_type": "code",
   "execution_count": 433,
   "id": "6692f2d5",
   "metadata": {},
   "outputs": [
    {
     "data": {
      "text/plain": [
       "Speeding               66.2\n",
       "Moving violation       13.7\n",
       "Equipment              10.2\n",
       "Registration/plates     4.3\n",
       "Other                   2.9\n",
       "Seat belt               2.7\n",
       "Name: violation, dtype: float64"
      ]
     },
     "execution_count": 433,
     "metadata": {},
     "output_type": "execute_result"
    }
   ],
   "source": [
    "round(police[police['driver_gender'] == 'Female'].violation.value_counts(normalize=True)*100, 1)"
   ]
  },
  {
   "cell_type": "markdown",
   "id": "0e596bde",
   "metadata": {},
   "source": [
    "What's interesting is that females are 13 percentage points more likely to be stopped for speeding than males.\n",
    "On the other hand, men are more likely to be stopped for a moving violation compared to their female counterpart."
   ]
  },
  {
   "cell_type": "code",
   "execution_count": 434,
   "id": "fba15f92",
   "metadata": {},
   "outputs": [
    {
     "data": {
      "text/plain": [
       "White       61563\n",
       "Black       12077\n",
       "Hispanic     9402\n",
       "Asian        2242\n",
       "Other         237\n",
       "Name: driver_race, dtype: int64"
      ]
     },
     "execution_count": 434,
     "metadata": {},
     "output_type": "execute_result"
    }
   ],
   "source": [
    "police['driver_race'].value_counts()"
   ]
  },
  {
   "cell_type": "code",
   "execution_count": 435,
   "id": "b5af7475",
   "metadata": {},
   "outputs": [
    {
     "data": {
      "text/plain": [
       "White       72.0\n",
       "Black       14.1\n",
       "Hispanic    11.0\n",
       "Asian        2.6\n",
       "Other        0.3\n",
       "Name: driver_race, dtype: float64"
      ]
     },
     "execution_count": 435,
     "metadata": {},
     "output_type": "execute_result"
    }
   ],
   "source": [
    "round(police['driver_race'].value_counts(normalize=True)*100, 1)"
   ]
  },
  {
   "cell_type": "markdown",
   "id": "4c7c45fe",
   "metadata": {},
   "source": [
    "The data might be biassed due to the race structure in society.\n",
    "Because of that, we cannot say that white people are the most reckless race of drivers because they are by far the most stopped race."
   ]
  },
  {
   "cell_type": "code",
   "execution_count": 436,
   "id": "b286dc60",
   "metadata": {},
   "outputs": [
    {
     "data": {
      "text/plain": [
       "Speeding               56.5\n",
       "Moving violation       18.9\n",
       "Equipment              12.3\n",
       "Other                   4.9\n",
       "Registration/plates     4.0\n",
       "Seat belt               3.5\n",
       "Name: violation, dtype: float64"
      ]
     },
     "execution_count": 436,
     "metadata": {},
     "output_type": "execute_result"
    }
   ],
   "source": [
    "round(police['violation'].value_counts(normalize=True)*100, 1)"
   ]
  },
  {
   "cell_type": "code",
   "execution_count": 437,
   "id": "aaab7234",
   "metadata": {},
   "outputs": [
    {
     "data": {
      "text/plain": [
       "Speeding               62.6\n",
       "Moving violation       17.0\n",
       "Equipment              10.0\n",
       "Other                   4.3\n",
       "Seat belt               3.1\n",
       "Registration/plates     3.0\n",
       "Name: violation, dtype: float64"
      ]
     },
     "execution_count": 437,
     "metadata": {},
     "output_type": "execute_result"
    }
   ],
   "source": [
    "round(police[police['driver_race'] == 'White'].violation.value_counts(normalize=True)*100, 1)"
   ]
  },
  {
   "cell_type": "code",
   "execution_count": 438,
   "id": "4198c2ac",
   "metadata": {},
   "outputs": [
    {
     "data": {
      "text/plain": [
       "Speeding               41.6\n",
       "Moving violation       23.7\n",
       "Equipment              17.4\n",
       "Other                   7.2\n",
       "Registration/plates     6.4\n",
       "Seat belt               3.7\n",
       "Name: violation, dtype: float64"
      ]
     },
     "execution_count": 438,
     "metadata": {},
     "output_type": "execute_result"
    }
   ],
   "source": [
    "round(police[police['driver_race'] == 'Black'].violation.value_counts(normalize=True)*100, 1)"
   ]
  },
  {
   "cell_type": "code",
   "execution_count": 439,
   "id": "53745c0c",
   "metadata": {},
   "outputs": [
    {
     "data": {
      "text/plain": [
       "Speeding               32.8\n",
       "Moving violation       25.5\n",
       "Equipment              22.1\n",
       "Registration/plates     7.6\n",
       "Other                   6.1\n",
       "Seat belt               5.9\n",
       "Name: violation, dtype: float64"
      ]
     },
     "execution_count": 439,
     "metadata": {},
     "output_type": "execute_result"
    }
   ],
   "source": [
    "round(police[police['driver_race'] == 'Hispanic'].violation.value_counts(normalize=True)*100, 1)"
   ]
  },
  {
   "cell_type": "code",
   "execution_count": 440,
   "id": "932c9a65",
   "metadata": {},
   "outputs": [
    {
     "data": {
      "text/plain": [
       "Speeding               68.0\n",
       "Moving violation       14.9\n",
       "Equipment               8.6\n",
       "Other                   3.3\n",
       "Registration/plates     2.6\n",
       "Seat belt               2.6\n",
       "Name: violation, dtype: float64"
      ]
     },
     "execution_count": 440,
     "metadata": {},
     "output_type": "execute_result"
    }
   ],
   "source": [
    "round(police[police['driver_race'] == 'Asian'].violation.value_counts(normalize=True)*100, 1)"
   ]
  },
  {
   "cell_type": "markdown",
   "id": "ab675a6f",
   "metadata": {},
   "source": [
    "Both white and Asian drivers have a similar mix of violation types. They have an above-average chance of being stopped for speeding but are less likely to be stopped due to equipment issues than the overall average.\n",
    "Both black and Hispanic drivers are on average noticeably more prone to be stopped for moving violations and equipment than the overall average."
   ]
  },
  {
   "cell_type": "code",
   "execution_count": 441,
   "id": "802faf34",
   "metadata": {},
   "outputs": [
    {
     "data": {
      "text/plain": [
       "Speeding               56.5\n",
       "Moving violation       18.9\n",
       "Equipment              12.3\n",
       "Other                   4.9\n",
       "Registration/plates     4.0\n",
       "Seat belt               3.5\n",
       "Name: violation, dtype: float64"
      ]
     },
     "execution_count": 441,
     "metadata": {},
     "output_type": "execute_result"
    }
   ],
   "source": [
    "round(police['violation'].value_counts(normalize=True)*100, 1)"
   ]
  },
  {
   "cell_type": "code",
   "execution_count": 442,
   "id": "9de84a7b",
   "metadata": {},
   "outputs": [
    {
     "data": {
      "text/plain": [
       "Speeding               60.8\n",
       "Moving violation       17.3\n",
       "Equipment               9.5\n",
       "Other                   4.8\n",
       "Seat belt               3.9\n",
       "Registration/plates     3.6\n",
       "Name: violation, dtype: float64"
      ]
     },
     "execution_count": 442,
     "metadata": {},
     "output_type": "execute_result"
    }
   ],
   "source": [
    "round(police[police['stop_daytime'] == 'Morning'].violation.value_counts(normalize=True)*100, 1)"
   ]
  },
  {
   "cell_type": "code",
   "execution_count": 443,
   "id": "1db52a9a",
   "metadata": {},
   "outputs": [
    {
     "data": {
      "text/plain": [
       "Speeding               50.9\n",
       "Moving violation       21.6\n",
       "Equipment              12.0\n",
       "Other                   6.2\n",
       "Seat belt               4.7\n",
       "Registration/plates     4.6\n",
       "Name: violation, dtype: float64"
      ]
     },
     "execution_count": 443,
     "metadata": {},
     "output_type": "execute_result"
    }
   ],
   "source": [
    "round(police[police['stop_daytime'] == 'Afternoon'].violation.value_counts(normalize=True)*100, 1)"
   ]
  },
  {
   "cell_type": "code",
   "execution_count": 444,
   "id": "295690bc",
   "metadata": {},
   "outputs": [
    {
     "data": {
      "text/plain": [
       "Speeding               57.3\n",
       "Moving violation       19.7\n",
       "Equipment              11.9\n",
       "Other                   5.2\n",
       "Registration/plates     3.6\n",
       "Seat belt               2.3\n",
       "Name: violation, dtype: float64"
      ]
     },
     "execution_count": 444,
     "metadata": {},
     "output_type": "execute_result"
    }
   ],
   "source": [
    "round(police[police['stop_daytime'] == 'Evening'].violation.value_counts(normalize=True)*100, 1)"
   ]
  },
  {
   "cell_type": "code",
   "execution_count": 445,
   "id": "3e779866",
   "metadata": {},
   "outputs": [
    {
     "data": {
      "text/plain": [
       "Speeding               56.0\n",
       "Moving violation       17.7\n",
       "Equipment              17.0\n",
       "Registration/plates     4.0\n",
       "Other                   3.4\n",
       "Seat belt               1.8\n",
       "Name: violation, dtype: float64"
      ]
     },
     "execution_count": 445,
     "metadata": {},
     "output_type": "execute_result"
    }
   ],
   "source": [
    "round(police[police['stop_daytime'] == 'Night'].violation.value_counts(normalize=True)*100, 1)"
   ]
  },
  {
   "cell_type": "markdown",
   "id": "8868928c",
   "metadata": {},
   "source": [
    "Distribution of violation types stays mostly consistent throughout the whole day.\n",
    "Stops for speeding are more likely to occur in the morning and less likely to occur in the afternoon.\n",
    "During the afternoon, there is a bit higher chance that someone is going to be stopped for a moving violation.\n",
    "The chance that someone gets stopped for equipment-related issues grows during the nighttime."
   ]
  },
  {
   "cell_type": "code",
   "execution_count": 446,
   "id": "48ecd07d",
   "metadata": {},
   "outputs": [
    {
     "data": {
      "text/plain": [
       "0-15 Min     68815\n",
       "16-30 Min    13503\n",
       "30+ Min       3203\n",
       "Name: stop_duration, dtype: int64"
      ]
     },
     "execution_count": 446,
     "metadata": {},
     "output_type": "execute_result"
    }
   ],
   "source": [
    "police['stop_duration'].value_counts()"
   ]
  },
  {
   "cell_type": "code",
   "execution_count": 447,
   "id": "6ba6d4f5",
   "metadata": {},
   "outputs": [
    {
     "data": {
      "text/plain": [
       "0-15 Min     80.5\n",
       "16-30 Min    15.8\n",
       "30+ Min       3.7\n",
       "Name: stop_duration, dtype: float64"
      ]
     },
     "execution_count": 447,
     "metadata": {},
     "output_type": "execute_result"
    }
   ],
   "source": [
    "round(police['stop_duration'].value_counts(normalize=True)*100, 1)"
   ]
  },
  {
   "cell_type": "code",
   "execution_count": 448,
   "id": "4fe7b1d9",
   "metadata": {},
   "outputs": [
    {
     "data": {
      "text/plain": [
       "0-15 Min      944\n",
       "16-30 Min    1353\n",
       "30+ Min       878\n",
       "Name: stop_duration, dtype: int64"
      ]
     },
     "execution_count": 448,
     "metadata": {},
     "output_type": "execute_result"
    }
   ],
   "source": [
    "police[police['search_conducted'] == True].stop_duration.value_counts().sort_index()"
   ]
  },
  {
   "cell_type": "code",
   "execution_count": 449,
   "id": "99db2793",
   "metadata": {},
   "outputs": [
    {
     "data": {
      "text/plain": [
       "0-15 Min     29.7\n",
       "16-30 Min    42.6\n",
       "30+ Min      27.7\n",
       "Name: stop_duration, dtype: float64"
      ]
     },
     "execution_count": 449,
     "metadata": {},
     "output_type": "execute_result"
    }
   ],
   "source": [
    "round(police[police['search_conducted'] == True].stop_duration.value_counts(normalize=True).sort_index()*100, 1)"
   ]
  },
  {
   "cell_type": "markdown",
   "id": "4c641bec",
   "metadata": {},
   "source": [
    "Whereas the average duration of the stoppage exceeds 15 minutes only in around 20% of cases, when it comes to stops with the search being conducted, the majority of all stops take longer than 15 minutes (~70%). Adding to that, more than a quarter of stops in which the vehicle was being searched take more than 30 minutes."
   ]
  },
  {
   "cell_type": "code",
   "execution_count": 450,
   "id": "c8d54ef3",
   "metadata": {},
   "outputs": [
    {
     "data": {
      "text/plain": [
       "False    84714\n",
       "True       807\n",
       "Name: drugs_related_stop, dtype: int64"
      ]
     },
     "execution_count": 450,
     "metadata": {},
     "output_type": "execute_result"
    }
   ],
   "source": [
    "police['drugs_related_stop'].value_counts()"
   ]
  },
  {
   "cell_type": "code",
   "execution_count": 451,
   "id": "cd2646ab",
   "metadata": {},
   "outputs": [
    {
     "data": {
      "text/plain": [
       "False    99.1\n",
       "True      0.9\n",
       "Name: drugs_related_stop, dtype: float64"
      ]
     },
     "execution_count": 451,
     "metadata": {},
     "output_type": "execute_result"
    }
   ],
   "source": [
    "round(police['drugs_related_stop'].value_counts(normalize=True)*100, 1)"
   ]
  },
  {
   "cell_type": "code",
   "execution_count": 452,
   "id": "aca5a696",
   "metadata": {},
   "outputs": [
    {
     "data": {
      "text/plain": [
       "False    2368\n",
       "True      807\n",
       "Name: drugs_related_stop, dtype: int64"
      ]
     },
     "execution_count": 452,
     "metadata": {},
     "output_type": "execute_result"
    }
   ],
   "source": [
    "police[police['search_conducted'] == True].drugs_related_stop.value_counts()"
   ]
  },
  {
   "cell_type": "code",
   "execution_count": 453,
   "id": "53cc0c90",
   "metadata": {},
   "outputs": [
    {
     "data": {
      "text/plain": [
       "False    74.6\n",
       "True     25.4\n",
       "Name: drugs_related_stop, dtype: float64"
      ]
     },
     "execution_count": 453,
     "metadata": {},
     "output_type": "execute_result"
    }
   ],
   "source": [
    "round(police[police['search_conducted'] == True].drugs_related_stop.value_counts(normalize=True)*100, 1)"
   ]
  },
  {
   "cell_type": "code",
   "execution_count": 454,
   "id": "ed363af2",
   "metadata": {},
   "outputs": [
    {
     "data": {
      "text/plain": [
       "False    96.3\n",
       "True      3.7\n",
       "Name: search_conducted, dtype: float64"
      ]
     },
     "execution_count": 454,
     "metadata": {},
     "output_type": "execute_result"
    }
   ],
   "source": [
    "round(police['search_conducted'].value_counts(normalize=True)*100, 1)"
   ]
  },
  {
   "cell_type": "code",
   "execution_count": 455,
   "id": "89a7d063",
   "metadata": {},
   "outputs": [
    {
     "data": {
      "text/plain": [
       "Citation            550\n",
       "Arrest Driver       170\n",
       "Arrest Passenger     41\n",
       "Warning              33\n",
       "No Action            13\n",
       "Name: stop_outcome, dtype: int64"
      ]
     },
     "execution_count": 455,
     "metadata": {},
     "output_type": "execute_result"
    }
   ],
   "source": [
    "police[police['drugs_related_stop'] == True].stop_outcome.value_counts()"
   ]
  },
  {
   "cell_type": "code",
   "execution_count": 456,
   "id": "9384fe44",
   "metadata": {},
   "outputs": [
    {
     "data": {
      "text/plain": [
       "Citation            68.2\n",
       "Arrest Driver       21.1\n",
       "Arrest Passenger     5.1\n",
       "Warning              4.1\n",
       "No Action            1.6\n",
       "Name: stop_outcome, dtype: float64"
      ]
     },
     "execution_count": 456,
     "metadata": {},
     "output_type": "execute_result"
    }
   ],
   "source": [
    "round(police[police['drugs_related_stop'] == True].stop_outcome.value_counts(normalize=True)*100, 1)"
   ]
  },
  {
   "cell_type": "code",
   "execution_count": 457,
   "id": "8c0fd12c",
   "metadata": {},
   "outputs": [
    {
     "data": {
      "text/plain": [
       "Citation            89.8\n",
       "Warning              6.1\n",
       "Arrest Driver        3.0\n",
       "No Action            0.7\n",
       "Arrest Passenger     0.4\n",
       "Name: stop_outcome, dtype: float64"
      ]
     },
     "execution_count": 457,
     "metadata": {},
     "output_type": "execute_result"
    }
   ],
   "source": [
    "round(police['stop_outcome'].value_counts(normalize=True)*100, 1)"
   ]
  },
  {
   "cell_type": "code",
   "execution_count": 458,
   "id": "6b691fa5",
   "metadata": {},
   "outputs": [
    {
     "data": {
      "text/plain": [
       "stop_year\n",
       "2005     18\n",
       "2006     59\n",
       "2007     66\n",
       "2008     57\n",
       "2009     84\n",
       "2010     60\n",
       "2011     64\n",
       "2012    109\n",
       "2013     86\n",
       "2014    118\n",
       "2015     86\n",
       "dtype: int64"
      ]
     },
     "execution_count": 458,
     "metadata": {},
     "output_type": "execute_result"
    }
   ],
   "source": [
    "police[police.drugs_related_stop == True].groupby('stop_year').size()"
   ]
  },
  {
   "cell_type": "markdown",
   "id": "950c7d52",
   "metadata": {},
   "source": [
    "Drug-related stops make up only less than 1% of all stoppages.\n",
    "In the case of drug-related stops, vehicles were searched 7 times as frequently as the overall average (3.7% compared to ~25%).\n",
    "Moreover, both drivers (3% vs. 21%) and passengers (5% vs. 0.4%) were far more likely to be arrested as a result of stoppage than the overall average. Drug-related stops have become more frequent druing the years."
   ]
  },
  {
   "cell_type": "markdown",
   "id": "4c0d0f65",
   "metadata": {},
   "source": [
    "--- "
   ]
  },
  {
   "cell_type": "markdown",
   "id": "2e3ddfcf",
   "metadata": {},
   "source": [
    "# Summary, visualizations and conclusions"
   ]
  },
  {
   "cell_type": "code",
   "execution_count": 459,
   "id": "bd523da3",
   "metadata": {},
   "outputs": [],
   "source": [
    "%matplotlib inline\n",
    "import matplotlib.pyplot as plt\n",
    "import matplotlib.gridspec as gridspec\n",
    "import numpy as np"
   ]
  },
  {
   "cell_type": "code",
   "execution_count": 460,
   "id": "6723e710",
   "metadata": {},
   "outputs": [
    {
     "data": {
      "image/png": "[encoded data removed]",
      "text/plain": [
       "<Figure size 1200x400 with 1 Axes>"
      ]
     },
     "metadata": {},
     "output_type": "display_data"
    }
   ],
   "source": [
    "plt.figure(figsize=(12,4))\n",
    "\n",
    "year_indexes = police['stop_year'].value_counts().sort_index().index[1:]\n",
    "year_values = police['stop_year'].value_counts().sort_index().values[1:]\n",
    "\n",
    "plt.plot(year_indexes, year_values, marker='o', color='#4682B4', markerfacecolor='#B0C4DE')\n",
    "\n",
    "plt.axhline(y=np.mean(year_values), color='sienna')\n",
    "plt.title('Number of Vehicles Stopped Over the Years', fontsize=16)\n",
    "plt.ylabel('Number of Stopped Vehicles')\n",
    "plt.xticks(year_indexes)\n",
    "plt.ylim(0, max(year_values) * 1.15)\n",
    "plt.annotate(xy=(2009,8500), text='Average = '+str(int(round(np.mean(year_values),-2))), color='sienna')\n",
    "\n",
    "plt.show()"
   ]
  },
  {
   "cell_type": "markdown",
   "id": "3f478f2c",
   "metadata": {},
   "source": [
    "### 1. Throughout the whole year, there are, on average, just above 8k vehicles stopped."
   ]
  },
  {
   "cell_type": "markdown",
   "id": "0133e281",
   "metadata": {},
   "source": [
    "---"
   ]
  },
  {
   "cell_type": "code",
   "execution_count": 461,
   "id": "d6862181",
   "metadata": {
    "scrolled": false
   },
   "outputs": [
    {
     "data": {
      "image/png": "[encoded data removed]",
      "text/plain": [
       "<Figure size 1200x400 with 1 Axes>"
      ]
     },
     "metadata": {},
     "output_type": "display_data"
    }
   ],
   "source": [
    "plt.figure(figsize=(12,4))\n",
    "\n",
    "hour_indexes = police['stop_hour'].value_counts().sort_index().index[:]\n",
    "hour_values = police['stop_hour'].value_counts().sort_index().values[:]\n",
    "\n",
    "plt.plot(hour_indexes, hour_values, marker='o', color='#4682B4', markerfacecolor='#B0C4DE')\n",
    "\n",
    "plt.title('Number of Vehicles Stopped by Hour', fontsize=16)\n",
    "plt.ylabel('Number of Stopped Vehicles')\n",
    "plt.xticks(hour_indexes)\n",
    "plt.ylim(0, max(hour_values) * 1.15)\n",
    "plt.axvspan(9, 11, color='lightcoral', alpha=0.5)\n",
    "plt.annotate(xy=(9, 4000), text='Peak Hours', fontsize=9.5)\n",
    "\n",
    "plt.show()"
   ]
  },
  {
   "cell_type": "markdown",
   "id": "67fbd02a",
   "metadata": {},
   "source": [
    "### 2. The peak hours for stops are from 9 to 11 AM."
   ]
  },
  {
   "cell_type": "markdown",
   "id": "ba0ce305",
   "metadata": {},
   "source": [
    "---"
   ]
  },
  {
   "cell_type": "code",
   "execution_count": 462,
   "id": "8bc1a4b0",
   "metadata": {},
   "outputs": [
    {
     "data": {
      "image/png": "[encoded data removed]",
      "text/plain": [
       "<Figure size 1200x400 with 1 Axes>"
      ]
     },
     "metadata": {},
     "output_type": "display_data"
    }
   ],
   "source": [
    "plt.figure(figsize=(12,4))\n",
    "\n",
    "age_indexes = police['driver_age_brackets'].value_counts().sort_index().index\n",
    "age_values = police['driver_age_brackets'].value_counts().sort_index().values\n",
    "age_percentages = age_values/np.sum(age_values)\n",
    "\n",
    "plt.bar(age_indexes, age_percentages,\n",
    "        color=['#4682B4','darksalmon','#4682B4','#4682B4','#4682B4','#4682B4','#4682B4','#4682B4'])\n",
    "\n",
    "plt.title(\"Vehicles Stopped by Driver's Age\", fontsize=16)\n",
    "plt.xlabel('Age Brackets')\n",
    "plt.ylabel('Percentage of All Stoppages')\n",
    "plt.ylim(0, max(age_percentages) * 1.15)\n",
    "\n",
    "for i, v in enumerate(age_percentages):\n",
    "    plt.text(i, v+0.007, f'{round(v * 100, 1)}%', ha='center', color='black')\n",
    "\n",
    "plt.show()"
   ]
  },
  {
   "cell_type": "markdown",
   "id": "c3568c0a",
   "metadata": {},
   "source": [
    "### 3. The most frequently stopped drivers are between 20 and 29 years old, around 40%."
   ]
  },
  {
   "cell_type": "markdown",
   "id": "ed5807ed",
   "metadata": {},
   "source": [
    "---"
   ]
  },
  {
   "cell_type": "code",
   "execution_count": 463,
   "id": "5edd6fdd",
   "metadata": {},
   "outputs": [
    {
     "data": {
      "image/png": "[encoded data removed]",
      "text/plain": [
       "<Figure size 1200x400 with 1 Axes>"
      ]
     },
     "metadata": {},
     "output_type": "display_data"
    }
   ],
   "source": [
    "plt.figure(figsize=(12,4))\n",
    "\n",
    "violation_indexes = police['violation'].value_counts().index\n",
    "violation_values = police['violation'].value_counts().values\n",
    "violation_percentages = violation_values/np.sum(violation_values)\n",
    "\n",
    "plt.bar(violation_indexes, violation_percentages, color='#4682B4')\n",
    "\n",
    "plt.title(\"Causes of Stoppages\", fontsize=16)\n",
    "plt.ylabel('Percentage of All Stoppages')\n",
    "plt.ylim(0, max(violation_percentages) * 1.15)\n",
    "\n",
    "for i, v in enumerate(violation_percentages):\n",
    "    plt.text(i, v+0.007, f'{round(v * 100, 1)}%', ha='center', color='black')\n",
    "\n",
    "plt.show()"
   ]
  },
  {
   "cell_type": "markdown",
   "id": "539f4da1",
   "metadata": {},
   "source": [
    "### 4. Speeding is by far the most likely cause of stoppage (57%), followed by moving violations (19%) and equipment-related issues (12%)."
   ]
  },
  {
   "cell_type": "markdown",
   "id": "f988f5c6",
   "metadata": {},
   "source": [
    "---"
   ]
  },
  {
   "cell_type": "code",
   "execution_count": 464,
   "id": "de24dd59",
   "metadata": {},
   "outputs": [
    {
     "data": {
      "image/png": "[encoded data removed]",
      "text/plain": [
       "<Figure size 1200x400 with 1 Axes>"
      ]
     },
     "metadata": {},
     "output_type": "display_data"
    }
   ],
   "source": [
    "plt.figure(figsize=(12,4))\n",
    "\n",
    "violation_female_indexes = police[police['driver_gender'] == 'Female'].violation.value_counts().index\n",
    "violation_female_values = police[police['driver_gender'] == 'Female'].violation.value_counts().values\n",
    "violation_female_percentages = violation_female_values/np.sum(violation_female_values)\n",
    "\n",
    "new_index = violation_female_indexes\n",
    "violation_male_values = police[police['driver_gender'] == 'Male'].violation.value_counts().reindex(new_index).values\n",
    "violation_male_percentages = violation_male_values/np.sum(violation_male_values)\n",
    "\n",
    "x_axis = np.arange(len(violation_female_indexes))\n",
    "\n",
    "bar_female = plt.bar(x_axis-0.2, violation_female_percentages, width=0.4, color='#FFC0CB', label='Female drivers')\n",
    "bar_male = plt.bar(x_axis+0.2, violation_male_percentages, width=0.4, color='cornflowerblue', label='Male drivers')\n",
    "\n",
    "plt.title(\"Causes of Stoppages by Sex\", fontsize=16)\n",
    "plt.ylabel('Percentage of All Stoppages by Sex')\n",
    "plt.legend(fontsize=12)\n",
    "plt.xticks(x_axis, new_index)\n",
    "plt.ylim(0, max(violation_female_percentages) * 1.15)\n",
    "\n",
    "for i, v in enumerate(violation_female_percentages):\n",
    "    plt.text(i-0.2, v+0.007, f'{round(v * 100)}%', ha='center', color='black')\n",
    "\n",
    "for i, v in enumerate(violation_male_percentages):\n",
    "    plt.text(i+0.2, v+0.007, f'{round(v * 100)}%', ha='center', color='black')\n",
    "\n",
    "plt.show()"
   ]
  },
  {
   "cell_type": "markdown",
   "id": "010bd0b1",
   "metadata": {},
   "source": [
    "### 5. Female drivers are more likely to be stopped for speeding (66% vs. 53%), but male drivers are more likely to be stopped for a moving violation (14% vs. 21%)."
   ]
  },
  {
   "cell_type": "markdown",
   "id": "53d119cd",
   "metadata": {},
   "source": [
    "---"
   ]
  },
  {
   "cell_type": "code",
   "execution_count": 465,
   "id": "bdb03979",
   "metadata": {},
   "outputs": [
    {
     "data": {
      "image/png": "[encoded data removed]",
      "text/plain": [
       "<Figure size 1200x400 with 2 Axes>"
      ]
     },
     "metadata": {},
     "output_type": "display_data"
    }
   ],
   "source": [
    "fig, (ax0, ax1) = plt.subplots(1, 2, figsize=(12, 4), width_ratios=[1, 1.5])\n",
    "\n",
    "speeding_white_value = police[(police['driver_race'] == 'White')].violation.value_counts().loc['Speeding']\n",
    "overall_white_value = sum(police[police['driver_race'] == 'White'].violation.value_counts().values)\n",
    "speeding_white_percentage = speeding_white_value/overall_white_value\n",
    "\n",
    "speeding_asian_value = police[(police['driver_race'] == 'Asian')].violation.value_counts().loc['Speeding']\n",
    "overall_asian_value = sum(police[police['driver_race'] == 'Asian'].violation.value_counts().values)\n",
    "speeding_asian_percentage = speeding_asian_value/overall_asian_value\n",
    "\n",
    "speeding_all_value = police.violation.value_counts().loc['Speeding']\n",
    "overall_all_value = sum(police.violation.value_counts().values)\n",
    "speeding_all_percentage = speeding_all_value/overall_all_value\n",
    "\n",
    "ax0.bar(0.7, speeding_white_percentage, width=0.3, color='silver', label='White drivers')\n",
    "ax0.bar(1, speeding_asian_percentage, width=0.3, color='darksalmon', label='Asian drivers')\n",
    "ax0.bar(1.3, speeding_all_percentage, width=0.3, color='#4682B4', label='All drivers')\n",
    "\n",
    "ax0.set_title(\"Stoppages for Speeding by Drivers Race\")\n",
    "ax0.set_ylabel('Percentage of All Stoppages by Race')\n",
    "ax0.legend(ncol=3, fontsize=9, loc='upper center')\n",
    "ax0.set_xticks([1],['Speeding'])\n",
    "ax0.set_ylim(0, speeding_asian_percentage * 1.3)\n",
    "\n",
    "ax0.text(0.7, speeding_white_percentage+0.007, f'{round(speeding_white_percentage * 100)}%', ha='center', color='black')\n",
    "ax0.text(1, speeding_asian_percentage+0.007, f'{round(speeding_asian_percentage * 100)}%', ha='center', color='black')\n",
    "ax0.text(1.3, speeding_all_percentage+0.007, f'{round(speeding_all_percentage * 100)}%', ha='center', color='black')\n",
    "ax0.axhline(speeding_all_percentage, xmin=0.048, xmax=0.952, linestyle='--', color='sienna')\n",
    "\n",
    "movingEQ_black_values = police[(police['driver_race'] == 'Black')\n",
    "                              & ((police['violation'] == 'Moving violation')\n",
    "                                | (police['violation'] == 'Equipment'))].violation.value_counts().values\n",
    "overall_black_value = sum(police[police['driver_race'] == 'Black'].violation.value_counts().values)\n",
    "movingEQ_black_percentages = movingEQ_black_values/overall_black_value\n",
    "\n",
    "movingEQ_hispanic_values = police[(police['driver_race'] == 'Hispanic')\n",
    "                              & ((police['violation'] == 'Moving violation')\n",
    "                                | (police['violation'] == 'Equipment'))].violation.value_counts().values\n",
    "overall_hispanic_value = sum(police[police['driver_race'] == 'Hispanic'].violation.value_counts().values)\n",
    "movingEQ_hispanic_percentages = movingEQ_hispanic_values/overall_hispanic_value\n",
    "\n",
    "movingEQ_all_values = police[(police['violation'] == 'Moving violation')\n",
    "                                | (police['violation'] == 'Equipment')].violation.value_counts().values\n",
    "movingEQ_all_percentages = movingEQ_all_values/overall_all_value\n",
    "\n",
    "x_axis = np.arange(2)\n",
    "ax1.bar(x_axis-0.25, movingEQ_black_percentages, width=0.25, color='#4B2D1F', label='Black drivers')\n",
    "ax1.bar(x_axis, movingEQ_hispanic_percentages, width=0.25, color='darkgoldenrod', label='Hispanic drivers')\n",
    "ax1.bar(x_axis+0.25, movingEQ_all_percentages, width=0.25, color='#4682B4', label='All drivers')\n",
    "\n",
    "ax1.set_title(\"Stoppages for Moving Violations and Equipment by Drivers Race\")\n",
    "ax1.set_ylabel('Percentage of All Stoppages by Race')\n",
    "ax1.legend(ncol=3, fontsize=9.35, loc='upper center')\n",
    "ax1.set_xticks([0,1],['Moving Violation', 'Equipment'])\n",
    "ax1.set_ylim(0, max(movingEQ_hispanic_percentages) * 1.3)\n",
    "\n",
    "for i, v in enumerate(movingEQ_black_percentages):\n",
    "    ax1.text(i-0.25, v+0.007, f'{round(v * 100)}%', ha='center', color='black')\n",
    "for i, v in enumerate(movingEQ_hispanic_percentages):\n",
    "    ax1.text(i, v+0.007, f'{round(v * 100)}%', ha='center', color='black')\n",
    "for i, v in enumerate(movingEQ_all_percentages):\n",
    "    ax1.text(i+0.25, v+0.007, f'{round(v * 100)}%', ha='center', color='black')\n",
    "ax1.axhline(movingEQ_all_percentages[0], xmin=0.048, xmax=0.436, linestyle='--', color='sienna')\n",
    "ax1.axhline(movingEQ_all_percentages[1], xmin=0.565, xmax=0.955, linestyle='--', color='sienna')\n",
    "\n",
    "plt.tight_layout()\n",
    "plt.show()"
   ]
  },
  {
   "cell_type": "markdown",
   "id": "0f16e513",
   "metadata": {},
   "source": [
    "### 6. White and Asian drivers have an above-average chance of being stopped for speeding (resp. 63%/68% vs. 56%). Both black and Hispanic drivers are on average more prone to be stopped for moving violations (resp. 24%/26% vs. 19%) and equipment (resp. 17%/22% vs. 12%) than the overall average."
   ]
  },
  {
   "cell_type": "markdown",
   "id": "4c74b058",
   "metadata": {},
   "source": [
    "---"
   ]
  },
  {
   "cell_type": "code",
   "execution_count": 466,
   "id": "02bbc3bd",
   "metadata": {},
   "outputs": [
    {
     "data": {
      "image/png": "[encoded data removed]",
      "text/plain": [
       "<Figure size 1200x400 with 1 Axes>"
      ]
     },
     "metadata": {},
     "output_type": "display_data"
    }
   ],
   "source": [
    "fig, ax0 = plt.subplots(1, 1, figsize=(12, 4))\n",
    "\n",
    "stop_outcome_values = police.stop_outcome.value_counts().values\n",
    "stop_outcome_indexes = police.stop_outcome.value_counts().index\n",
    "stop_outcome_percentages = stop_outcome_values/np.sum(stop_outcome_values)\n",
    "\n",
    "ax0.barh(y=stop_outcome_indexes, width=stop_outcome_percentages,\n",
    "         color=['darksalmon','#4682B4','#4682B4','#4682B4','#4682B4'])\n",
    "ax0.set_xlim(0, 1)\n",
    "ax0.set_xlabel('Percentage of All Stoppages')\n",
    "\n",
    "for i, v in enumerate(stop_outcome_percentages):\n",
    "    ax0.text(v+0.02, i-0.08, f'{round(v * 100)}%', ha='center', color='black')\n",
    "ax0.text(0.105, 3.92, '-> '+str(stop_outcome_values[-1])+' instances', ha='center', color='black')\n",
    "\n",
    "plt.suptitle('Percentage Breakdown of Stop Outcomes', fontsize=16)\n",
    "plt.show()"
   ]
  },
  {
   "cell_type": "markdown",
   "id": "1e1547e6",
   "metadata": {},
   "source": [
    "### 7. The majority (90%) of stops end up with a citation for the driver. Only around 7% of stopped drivers were allowed to go on without any action taken against them or with a mere warning. 3% of drivers get arrested during a stop. There have been just over 350 cases where the passenger got to be arrested."
   ]
  },
  {
   "cell_type": "markdown",
   "id": "ee388db9",
   "metadata": {},
   "source": [
    "---"
   ]
  },
  {
   "cell_type": "code",
   "execution_count": 467,
   "id": "9cdb0a7e",
   "metadata": {},
   "outputs": [
    {
     "data": {
      "image/png": "[encoded data removed]",
      "text/plain": [
       "<Figure size 1200x500 with 2 Axes>"
      ]
     },
     "metadata": {},
     "output_type": "display_data"
    }
   ],
   "source": [
    "fig, (ax0, ax1) = plt.subplots(1, 2, figsize=(12, 5), width_ratios=(1, 1.5))\n",
    "\n",
    "stop_search_values = police['search_conducted'].value_counts()\n",
    "stop_search_percentages = stop_search_values/np.sum(stop_search_values)\n",
    "\n",
    "no_search_arrests_values = police[police.search_conducted == False].stop_outcome.value_counts()\n",
    "no_search_arrests_percentages = no_search_arrests_values/np.sum(no_search_arrests_values)\n",
    "search_arrests_values = police[police.search_conducted == True].stop_outcome.value_counts()\n",
    "search_arrests_percentages = search_arrests_values/np.sum(search_arrests_values)\n",
    "\n",
    "ax0.pie([stop_search_percentages.loc[True], stop_search_percentages.loc[False]], autopct='%.1f%%', pctdistance=0.8, \n",
    "        colors=['darksalmon', '#4682B4'], startangle=-30, wedgeprops=dict(width=0.4, edgecolor='w'))\n",
    "ax0.set_title('Percentage of Stops Involving a Search')\n",
    "ax0.annotate(xy=(1.05, -0.8), text='Vehicle\\nSearched', fontsize=12)\n",
    "ax0.annotate(xy=(1, 0.65), text='No Search\\nConducted', fontsize=12)\n",
    "\n",
    "ax1.barh(y=['With Search', 'Without Search'], width=[search_arrests_percentages.loc['Arrest Driver'],\n",
    "        no_search_arrests_percentages.loc['Arrest Driver']], color=['darksalmon', '#4682B4'])\n",
    "ax1.set_xlabel('Percentage of Arrested Drivers', fontsize=12)\n",
    "ax1.set_xlim(0, 1)\n",
    "ax1.axes.get_yaxis().set_visible(False)\n",
    "ax1.set_title('Driver Arrests: Conducting a Search')\n",
    "ax1.text(0.05, 1, f\"{round(no_search_arrests_percentages.loc['Arrest Driver']*100, 1)}%\")\n",
    "ax1.text(0.32, 0, f\"{round(search_arrests_percentages.loc['Arrest Driver']*100, 1)}%\")\n",
    "ax1.annotate(\"\", xy=(0, 0), xytext=(-0.26, 0.19), arrowprops=dict(arrowstyle=\"->\", color='darksalmon'))\n",
    "ax1.annotate(\"\", xy=(0, 1), xytext=(-0.26, 0.81), arrowprops=dict(arrowstyle=\"->\", color='#4682B4'))\n",
    "\n",
    "plt.suptitle('Influence of Conducting a Search on the Likelihood of Arresting the Driver', fontsize=16)\n",
    "plt.subplots_adjust(top=0.8)\n",
    "plt.show()"
   ]
  },
  {
   "cell_type": "markdown",
   "id": "fcd5e4c1",
   "metadata": {},
   "source": [
    "### 8. During a stop search was conducted only in 3.7% of cases. Drivers who had their vehicles searched are fifteen times as likely to be arrested compared to those who had not."
   ]
  },
  {
   "cell_type": "markdown",
   "id": "58f20aa2",
   "metadata": {},
   "source": [
    "---"
   ]
  },
  {
   "cell_type": "code",
   "execution_count": 468,
   "id": "7e6d1c24",
   "metadata": {},
   "outputs": [
    {
     "data": {
      "image/png": "[encoded data removed]",
      "text/plain": [
       "<Figure size 1200x400 with 2 Axes>"
      ]
     },
     "metadata": {},
     "output_type": "display_data"
    }
   ],
   "source": [
    "fig, (ax0, ax1) = plt.subplots(1, 2, figsize=(12, 4))\n",
    "\n",
    "overall_duration_values = police.stop_duration.value_counts().values\n",
    "overall_duration_indexes = police.stop_duration.value_counts().index\n",
    "overall_duration_percentages = overall_duration_values/np.sum(overall_duration_values)\n",
    "\n",
    "indexes = ['0-15 Min', '16-30 Min', '30+ Min']\n",
    "search_duration_values = police[police.search_conducted == True].stop_duration.value_counts()\n",
    "search_duration_percentages = search_duration_values/np.sum(search_duration_values)\n",
    "search_duration_percentages_proper = [search_duration_percentages.loc[indexes[i]] for i in range(0, len(indexes))]\n",
    "\n",
    "ax0.bar(overall_duration_indexes, overall_duration_percentages, color='#4682B4')\n",
    "ax0.set_ylim(0, 1)\n",
    "ax0.set_title('Duration Without Search')\n",
    "ax0.set_ylabel('Percent of All Stoppages')\n",
    "\n",
    "ax1.bar(indexes, search_duration_percentages_proper, color='darksalmon')\n",
    "ax1.set_ylim(0, 1)\n",
    "ax1.set_title('Duration With a Search Conducted')\n",
    "ax1.set_ylabel('Percent of All Stoppages')\n",
    "\n",
    "for i, v in enumerate(overall_duration_percentages):\n",
    "    ax0.text(i, v+0.015, f'{round(v * 100)}%', ha='center', color='black')\n",
    "for i, v in enumerate(search_duration_percentages_proper):\n",
    "    ax1.text(i, v+0.015, f'{round(v * 100)}%', ha='center', color='black')\n",
    "    \n",
    "plt.suptitle('Influence of Conducting a Search on the Stoppage Duration', fontsize=16)\n",
    "plt.subplots_adjust(top=0.8)\n",
    "plt.show()"
   ]
  },
  {
   "cell_type": "markdown",
   "id": "696c12ea",
   "metadata": {},
   "source": [
    "### 9. Most of the time (80%) stops take on average less than 15 minutes. Stop instances where vehicle was being searched took on average noticeably longer."
   ]
  },
  {
   "cell_type": "markdown",
   "id": "346e301f",
   "metadata": {},
   "source": [
    "---"
   ]
  },
  {
   "cell_type": "code",
   "execution_count": 469,
   "id": "07d6a005",
   "metadata": {},
   "outputs": [
    {
     "data": {
      "image/png": "[encoded data removed]",
      "text/plain": [
       "<Figure size 1200x700 with 3 Axes>"
      ]
     },
     "metadata": {},
     "output_type": "display_data"
    }
   ],
   "source": [
    "fig = plt.figure(figsize=(12,7))\n",
    "gs = gridspec.GridSpec(2, 2, fig, height_ratios=(1.25,1), width_ratios=(1,2))\n",
    "ax0 = fig.add_subplot(gs[0,0])\n",
    "ax1 = fig.add_subplot(gs[0,1])\n",
    "ax2 = fig.add_subplot(gs[1,:])\n",
    "\n",
    "overall_search_value = police.search_conducted.value_counts().loc[True]\n",
    "overall_search_percentage = overall_search_value/np.sum(police.search_conducted.value_counts())\n",
    "\n",
    "drug_search_value = police[police['search_conducted'] == True].drugs_related_stop.value_counts().loc[True]\n",
    "drug_search_percentage = drug_search_value/np.sum(police[police['search_conducted'] == True].drugs_related_stop.value_counts())\n",
    "\n",
    "ax0.bar(['Overall','Drug-related'], [overall_search_percentage,drug_search_percentage], color=['#4682B4', 'darksalmon'])\n",
    "ax0.set_ylim(0,0.5)\n",
    "ax0.text(0, 0.045, f'{round(overall_search_percentage * 100, 1)}%', ha='center', color='black')\n",
    "ax0.text(1, 0.26, f'{round(drug_search_percentage * 100, 1)}%', ha='center', color='black')\n",
    "ax0.set_ylabel('Percentage of Searches Conducted')\n",
    "ax0.set_title('Drug-related Stops: Searches Conducted', fontsize=10)\n",
    "\n",
    "overall_outcome_values = police.stop_outcome.value_counts().values\n",
    "overall_outcome_indexes = police.stop_outcome.value_counts().index\n",
    "overall_outcome_percentages = overall_outcome_values/np.sum(overall_outcome_values)\n",
    "\n",
    "new_index = overall_outcome_indexes\n",
    "drug_outcome_values = police[police['drugs_related_stop'] == True].stop_outcome.value_counts().reindex(new_index).values\n",
    "drug_outcome_percentages = drug_outcome_values/np.sum(drug_outcome_values)\n",
    "\n",
    "x_axis = np.arange(len(new_index))\n",
    "ax1.bar(x_axis-0.2, overall_outcome_percentages, width=0.4, color='#4682B4')\n",
    "ax1.bar(x_axis+0.2, drug_outcome_percentages, width=0.4, color='darksalmon')\n",
    "ax1.set_ylim(0, 1)\n",
    "ax1.set_xticks(x_axis, [overall_outcome_indexes[i] if i<4 else 'Arrest\\nPassenger' for i in x_axis ])\n",
    "ax1.legend(['Overall Stops','Drug-related Stops'], fontsize=12)\n",
    "ax1.set_ylabel('Percentage of All Stops')\n",
    "ax1.set_title('Drug-related Stops: Stop Outcomes')\n",
    "\n",
    "for i, v in enumerate(overall_outcome_percentages):\n",
    "    ax1.text(i-0.2, v+0.012, f'{round(v * 100)}%', ha='center', color='black')\n",
    "for i, v in enumerate(drug_outcome_percentages):\n",
    "    ax1.text(i+0.2, v+0.012, f'{round(v * 100)}%', ha='center', color='black')\n",
    "\n",
    "drugs_over_years_values = police[police.drugs_related_stop == True].groupby('stop_year').size().values[1:]\n",
    "drugs_over_years_indexes = police[police.drugs_related_stop == True].groupby('stop_year').size().index[1:]\n",
    "\n",
    "ax2.plot(drugs_over_years_indexes, drugs_over_years_values, marker='o', color='#4682B4', markerfacecolor='#B0C4DE')\n",
    "ax2.set_title('Number of Drug-related Stops Over the Years')\n",
    "ax2.set_ylabel('Number of Stopped Vehicles')\n",
    "ax2.set_xticks(drugs_over_years_indexes)\n",
    "ax2.set_ylim(0, max(drugs_over_years_values) * 1.15)\n",
    "ax2.plot(drugs_over_years_indexes,\n",
    "         np.poly1d(np.polyfit(drugs_over_years_indexes, drugs_over_years_values, 1))(drugs_over_years_indexes),\n",
    "        linestyle=':', color='sienna')\n",
    "\n",
    "plt.suptitle('Drug-related Stops Overview', fontsize=16)\n",
    "plt.subplots_adjust(top=0.85)\n",
    "plt.subplots_adjust(hspace=0.35)\n",
    "plt.show()"
   ]
  },
  {
   "cell_type": "markdown",
   "id": "ce81579e",
   "metadata": {},
   "source": [
    "### 10. Drug-related stops make up only less than 1% of all stoppages. In the case of drug-related stops, vehicles were searched almost 7 times as frequently as the overall average (3.7% vs. 25%). Moreover, both drivers (3% vs. 21%) and passengers (0.4% vs. 5%) of drug-related searched vehicles were far more likely to be arrested as a result of stoppage than the overall average. The number of drug-related stops has risen throughout the years. "
   ]
  }
 ],
 "metadata": {
  "kernelspec": {
   "display_name": "Python 3 (ipykernel)",
   "language": "python",
   "name": "python3"
  },
  "language_info": {
   "codemirror_mode": {
    "name": "ipython",
    "version": 3
   },
   "file_extension": ".py",
   "mimetype": "text/x-python",
   "name": "python",
   "nbconvert_exporter": "python",
   "pygments_lexer": "ipython3",
   "version": "3.10.9"
  }
 },
 "nbformat": 4,
 "nbformat_minor": 5
}
